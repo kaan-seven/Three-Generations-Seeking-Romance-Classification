{
 "cells": [
  {
   "cell_type": "code",
   "execution_count": 1,
   "id": "4b930db8",
   "metadata": {
    "id": "4b930db8"
   },
   "outputs": [],
   "source": [
    "import pandas as pd\n",
    "import numpy as np\n",
    "import matplotlib.pyplot as plt\n",
    "import seaborn as sns\n",
    "import warnings\n",
    "from datetime import datetime\n",
    "sns.set_style(\"whitegrid\")\n",
    "warnings.filterwarnings(\"ignore\")\n",
    "pd.set_option(\"display.max_columns\",100)\n",
    "from sklearn.model_selection import train_test_split"
   ]
  },
  {
   "cell_type": "code",
   "execution_count": 3,
   "id": "96807eed",
   "metadata": {
    "id": "96807eed"
   },
   "outputs": [],
   "source": [
    "df=pd.read_csv(\"profiles.csv\")"
   ]
  },
  {
   "cell_type": "code",
   "execution_count": 4,
   "id": "5d9d263a",
   "metadata": {
    "colab": {
     "base_uri": "https://localhost:8080/",
     "height": 700
    },
    "id": "5d9d263a",
    "outputId": "01c31d4b-1210-4632-f9f3-6d98dd8fb5e8"
   },
   "outputs": [
    {
     "data": {
      "text/html": [
       "<div>\n",
       "<style scoped>\n",
       "    .dataframe tbody tr th:only-of-type {\n",
       "        vertical-align: middle;\n",
       "    }\n",
       "\n",
       "    .dataframe tbody tr th {\n",
       "        vertical-align: top;\n",
       "    }\n",
       "\n",
       "    .dataframe thead th {\n",
       "        text-align: right;\n",
       "    }\n",
       "</style>\n",
       "<table border=\"1\" class=\"dataframe\">\n",
       "  <thead>\n",
       "    <tr style=\"text-align: right;\">\n",
       "      <th></th>\n",
       "      <th>age</th>\n",
       "      <th>body_type</th>\n",
       "      <th>diet</th>\n",
       "      <th>drinks</th>\n",
       "      <th>drugs</th>\n",
       "      <th>education</th>\n",
       "      <th>essay0</th>\n",
       "      <th>essay1</th>\n",
       "      <th>essay2</th>\n",
       "      <th>essay3</th>\n",
       "      <th>essay4</th>\n",
       "      <th>essay5</th>\n",
       "      <th>essay6</th>\n",
       "      <th>essay7</th>\n",
       "      <th>essay8</th>\n",
       "      <th>essay9</th>\n",
       "      <th>ethnicity</th>\n",
       "      <th>height</th>\n",
       "      <th>income</th>\n",
       "      <th>job</th>\n",
       "      <th>last_online</th>\n",
       "      <th>location</th>\n",
       "      <th>offspring</th>\n",
       "      <th>orientation</th>\n",
       "      <th>pets</th>\n",
       "      <th>religion</th>\n",
       "      <th>sex</th>\n",
       "      <th>sign</th>\n",
       "      <th>smokes</th>\n",
       "      <th>speaks</th>\n",
       "      <th>status</th>\n",
       "    </tr>\n",
       "  </thead>\n",
       "  <tbody>\n",
       "    <tr>\n",
       "      <th>0</th>\n",
       "      <td>22.0</td>\n",
       "      <td>a little extra</td>\n",
       "      <td>strictly anything</td>\n",
       "      <td>socially</td>\n",
       "      <td>never</td>\n",
       "      <td>working on college/university</td>\n",
       "      <td>about me:&lt;br /&gt;\\n&lt;br /&gt;\\ni would love to think...</td>\n",
       "      <td>currently working as an international agent fo...</td>\n",
       "      <td>making people laugh.&lt;br /&gt;\\nranting about a go...</td>\n",
       "      <td>the way i look. i am a six foot half asian, ha...</td>\n",
       "      <td>books:&lt;br /&gt;\\nabsurdistan, the republic, of mi...</td>\n",
       "      <td>food.&lt;br /&gt;\\nwater.&lt;br /&gt;\\ncell phone.&lt;br /&gt;\\n...</td>\n",
       "      <td>duality and humorous things</td>\n",
       "      <td>trying to find someone to hang out with. i am ...</td>\n",
       "      <td>i am new to california and looking for someone...</td>\n",
       "      <td>you want to be swept off your feet!&lt;br /&gt;\\nyou...</td>\n",
       "      <td>asian, white</td>\n",
       "      <td>75.0</td>\n",
       "      <td>-1.0</td>\n",
       "      <td>transportation</td>\n",
       "      <td>2012-06-28-20-30</td>\n",
       "      <td>south san francisco, california</td>\n",
       "      <td>doesn&amp;rsquo;t have kids, but might want them</td>\n",
       "      <td>straight</td>\n",
       "      <td>likes dogs and likes cats</td>\n",
       "      <td>agnosticism and very serious about it</td>\n",
       "      <td>m</td>\n",
       "      <td>gemini</td>\n",
       "      <td>sometimes</td>\n",
       "      <td>english</td>\n",
       "      <td>single</td>\n",
       "    </tr>\n",
       "    <tr>\n",
       "      <th>1</th>\n",
       "      <td>35.0</td>\n",
       "      <td>average</td>\n",
       "      <td>mostly other</td>\n",
       "      <td>often</td>\n",
       "      <td>sometimes</td>\n",
       "      <td>working on space camp</td>\n",
       "      <td>i am a chef: this is what that means.&lt;br /&gt;\\n1...</td>\n",
       "      <td>dedicating everyday to being an unbelievable b...</td>\n",
       "      <td>being silly. having ridiculous amonts of fun w...</td>\n",
       "      <td>NaN</td>\n",
       "      <td>i am die hard christopher moore fan. i don't r...</td>\n",
       "      <td>delicious porkness in all of its glories.&lt;br /...</td>\n",
       "      <td>NaN</td>\n",
       "      <td>NaN</td>\n",
       "      <td>i am very open and will share just about anyth...</td>\n",
       "      <td>NaN</td>\n",
       "      <td>white</td>\n",
       "      <td>70.0</td>\n",
       "      <td>80000.0</td>\n",
       "      <td>hospitality / travel</td>\n",
       "      <td>2012-06-29-21-41</td>\n",
       "      <td>oakland, california</td>\n",
       "      <td>doesn&amp;rsquo;t have kids, but might want them</td>\n",
       "      <td>straight</td>\n",
       "      <td>likes dogs and likes cats</td>\n",
       "      <td>agnosticism but not too serious about it</td>\n",
       "      <td>m</td>\n",
       "      <td>cancer</td>\n",
       "      <td>no</td>\n",
       "      <td>english (fluently), spanish (poorly), french (...</td>\n",
       "      <td>single</td>\n",
       "    </tr>\n",
       "    <tr>\n",
       "      <th>2</th>\n",
       "      <td>38.0</td>\n",
       "      <td>thin</td>\n",
       "      <td>anything</td>\n",
       "      <td>socially</td>\n",
       "      <td>NaN</td>\n",
       "      <td>graduated from masters program</td>\n",
       "      <td>i'm not ashamed of much, but writing public te...</td>\n",
       "      <td>i make nerdy software for musicians, artists, ...</td>\n",
       "      <td>improvising in different contexts. alternating...</td>\n",
       "      <td>my large jaw and large glasses are the physica...</td>\n",
       "      <td>okay this is where the cultural matrix gets so...</td>\n",
       "      <td>movement&lt;br /&gt;\\nconversation&lt;br /&gt;\\ncreation&lt;b...</td>\n",
       "      <td>NaN</td>\n",
       "      <td>viewing. listening. dancing. talking. drinking...</td>\n",
       "      <td>when i was five years old, i was known as \"the...</td>\n",
       "      <td>you are bright, open, intense, silly, ironic, ...</td>\n",
       "      <td>NaN</td>\n",
       "      <td>68.0</td>\n",
       "      <td>-1.0</td>\n",
       "      <td>NaN</td>\n",
       "      <td>2012-06-27-09-10</td>\n",
       "      <td>san francisco, california</td>\n",
       "      <td>NaN</td>\n",
       "      <td>straight</td>\n",
       "      <td>has cats</td>\n",
       "      <td>NaN</td>\n",
       "      <td>m</td>\n",
       "      <td>pisces but it doesn&amp;rsquo;t matter</td>\n",
       "      <td>no</td>\n",
       "      <td>english, french, c++</td>\n",
       "      <td>available</td>\n",
       "    </tr>\n",
       "    <tr>\n",
       "      <th>3</th>\n",
       "      <td>23.0</td>\n",
       "      <td>thin</td>\n",
       "      <td>vegetarian</td>\n",
       "      <td>socially</td>\n",
       "      <td>NaN</td>\n",
       "      <td>working on college/university</td>\n",
       "      <td>i work in a library and go to school. . .</td>\n",
       "      <td>reading things written by old dead people</td>\n",
       "      <td>playing synthesizers and organizing books acco...</td>\n",
       "      <td>socially awkward but i do my best</td>\n",
       "      <td>bataille, celine, beckett. . .&lt;br /&gt;\\nlynch, j...</td>\n",
       "      <td>NaN</td>\n",
       "      <td>cats and german philosophy</td>\n",
       "      <td>NaN</td>\n",
       "      <td>NaN</td>\n",
       "      <td>you feel so inclined.</td>\n",
       "      <td>white</td>\n",
       "      <td>71.0</td>\n",
       "      <td>20000.0</td>\n",
       "      <td>student</td>\n",
       "      <td>2012-06-28-14-22</td>\n",
       "      <td>berkeley, california</td>\n",
       "      <td>doesn&amp;rsquo;t want kids</td>\n",
       "      <td>straight</td>\n",
       "      <td>likes cats</td>\n",
       "      <td>NaN</td>\n",
       "      <td>m</td>\n",
       "      <td>pisces</td>\n",
       "      <td>no</td>\n",
       "      <td>english, german (poorly)</td>\n",
       "      <td>single</td>\n",
       "    </tr>\n",
       "    <tr>\n",
       "      <th>4</th>\n",
       "      <td>29.0</td>\n",
       "      <td>athletic</td>\n",
       "      <td>NaN</td>\n",
       "      <td>socially</td>\n",
       "      <td>never</td>\n",
       "      <td>graduated from college/university</td>\n",
       "      <td>hey how's it going? currently vague on the pro...</td>\n",
       "      <td>work work work work + play</td>\n",
       "      <td>creating imagery to look at:&lt;br /&gt;\\nhttp://bag...</td>\n",
       "      <td>i smile a lot and my inquisitive nature</td>\n",
       "      <td>music: bands, rappers, musicians&lt;br /&gt;\\nat the...</td>\n",
       "      <td>NaN</td>\n",
       "      <td>NaN</td>\n",
       "      <td>NaN</td>\n",
       "      <td>NaN</td>\n",
       "      <td>NaN</td>\n",
       "      <td>asian, black, other</td>\n",
       "      <td>66.0</td>\n",
       "      <td>-1.0</td>\n",
       "      <td>artistic / musical / writer</td>\n",
       "      <td>2012-06-27-21-26</td>\n",
       "      <td>san francisco, california</td>\n",
       "      <td>NaN</td>\n",
       "      <td>straight</td>\n",
       "      <td>likes dogs and likes cats</td>\n",
       "      <td>NaN</td>\n",
       "      <td>m</td>\n",
       "      <td>aquarius</td>\n",
       "      <td>no</td>\n",
       "      <td>english</td>\n",
       "      <td>single</td>\n",
       "    </tr>\n",
       "  </tbody>\n",
       "</table>\n",
       "</div>"
      ],
      "text/plain": [
       "    age       body_type               diet    drinks      drugs  \\\n",
       "0  22.0  a little extra  strictly anything  socially      never   \n",
       "1  35.0         average       mostly other     often  sometimes   \n",
       "2  38.0            thin           anything  socially        NaN   \n",
       "3  23.0            thin         vegetarian  socially        NaN   \n",
       "4  29.0        athletic                NaN  socially      never   \n",
       "\n",
       "                           education  \\\n",
       "0      working on college/university   \n",
       "1              working on space camp   \n",
       "2     graduated from masters program   \n",
       "3      working on college/university   \n",
       "4  graduated from college/university   \n",
       "\n",
       "                                              essay0  \\\n",
       "0  about me:<br />\\n<br />\\ni would love to think...   \n",
       "1  i am a chef: this is what that means.<br />\\n1...   \n",
       "2  i'm not ashamed of much, but writing public te...   \n",
       "3          i work in a library and go to school. . .   \n",
       "4  hey how's it going? currently vague on the pro...   \n",
       "\n",
       "                                              essay1  \\\n",
       "0  currently working as an international agent fo...   \n",
       "1  dedicating everyday to being an unbelievable b...   \n",
       "2  i make nerdy software for musicians, artists, ...   \n",
       "3          reading things written by old dead people   \n",
       "4                         work work work work + play   \n",
       "\n",
       "                                              essay2  \\\n",
       "0  making people laugh.<br />\\nranting about a go...   \n",
       "1  being silly. having ridiculous amonts of fun w...   \n",
       "2  improvising in different contexts. alternating...   \n",
       "3  playing synthesizers and organizing books acco...   \n",
       "4  creating imagery to look at:<br />\\nhttp://bag...   \n",
       "\n",
       "                                              essay3  \\\n",
       "0  the way i look. i am a six foot half asian, ha...   \n",
       "1                                                NaN   \n",
       "2  my large jaw and large glasses are the physica...   \n",
       "3                  socially awkward but i do my best   \n",
       "4            i smile a lot and my inquisitive nature   \n",
       "\n",
       "                                              essay4  \\\n",
       "0  books:<br />\\nabsurdistan, the republic, of mi...   \n",
       "1  i am die hard christopher moore fan. i don't r...   \n",
       "2  okay this is where the cultural matrix gets so...   \n",
       "3  bataille, celine, beckett. . .<br />\\nlynch, j...   \n",
       "4  music: bands, rappers, musicians<br />\\nat the...   \n",
       "\n",
       "                                              essay5  \\\n",
       "0  food.<br />\\nwater.<br />\\ncell phone.<br />\\n...   \n",
       "1  delicious porkness in all of its glories.<br /...   \n",
       "2  movement<br />\\nconversation<br />\\ncreation<b...   \n",
       "3                                                NaN   \n",
       "4                                                NaN   \n",
       "\n",
       "                        essay6  \\\n",
       "0  duality and humorous things   \n",
       "1                          NaN   \n",
       "2                          NaN   \n",
       "3   cats and german philosophy   \n",
       "4                          NaN   \n",
       "\n",
       "                                              essay7  \\\n",
       "0  trying to find someone to hang out with. i am ...   \n",
       "1                                                NaN   \n",
       "2  viewing. listening. dancing. talking. drinking...   \n",
       "3                                                NaN   \n",
       "4                                                NaN   \n",
       "\n",
       "                                              essay8  \\\n",
       "0  i am new to california and looking for someone...   \n",
       "1  i am very open and will share just about anyth...   \n",
       "2  when i was five years old, i was known as \"the...   \n",
       "3                                                NaN   \n",
       "4                                                NaN   \n",
       "\n",
       "                                              essay9            ethnicity  \\\n",
       "0  you want to be swept off your feet!<br />\\nyou...         asian, white   \n",
       "1                                                NaN                white   \n",
       "2  you are bright, open, intense, silly, ironic, ...                  NaN   \n",
       "3                              you feel so inclined.                white   \n",
       "4                                                NaN  asian, black, other   \n",
       "\n",
       "   height   income                          job       last_online  \\\n",
       "0    75.0     -1.0               transportation  2012-06-28-20-30   \n",
       "1    70.0  80000.0         hospitality / travel  2012-06-29-21-41   \n",
       "2    68.0     -1.0                          NaN  2012-06-27-09-10   \n",
       "3    71.0  20000.0                      student  2012-06-28-14-22   \n",
       "4    66.0     -1.0  artistic / musical / writer  2012-06-27-21-26   \n",
       "\n",
       "                          location  \\\n",
       "0  south san francisco, california   \n",
       "1              oakland, california   \n",
       "2        san francisco, california   \n",
       "3             berkeley, california   \n",
       "4        san francisco, california   \n",
       "\n",
       "                                      offspring orientation  \\\n",
       "0  doesn&rsquo;t have kids, but might want them    straight   \n",
       "1  doesn&rsquo;t have kids, but might want them    straight   \n",
       "2                                           NaN    straight   \n",
       "3                       doesn&rsquo;t want kids    straight   \n",
       "4                                           NaN    straight   \n",
       "\n",
       "                        pets                                  religion sex  \\\n",
       "0  likes dogs and likes cats     agnosticism and very serious about it   m   \n",
       "1  likes dogs and likes cats  agnosticism but not too serious about it   m   \n",
       "2                   has cats                                       NaN   m   \n",
       "3                 likes cats                                       NaN   m   \n",
       "4  likes dogs and likes cats                                       NaN   m   \n",
       "\n",
       "                                 sign     smokes  \\\n",
       "0                              gemini  sometimes   \n",
       "1                              cancer         no   \n",
       "2  pisces but it doesn&rsquo;t matter         no   \n",
       "3                              pisces         no   \n",
       "4                            aquarius         no   \n",
       "\n",
       "                                              speaks     status  \n",
       "0                                            english     single  \n",
       "1  english (fluently), spanish (poorly), french (...     single  \n",
       "2                               english, french, c++  available  \n",
       "3                           english, german (poorly)     single  \n",
       "4                                            english     single  "
      ]
     },
     "execution_count": 4,
     "metadata": {},
     "output_type": "execute_result"
    }
   ],
   "source": [
    "df.head()"
   ]
  },
  {
   "cell_type": "code",
   "execution_count": 5,
   "id": "0ec2a638",
   "metadata": {
    "colab": {
     "base_uri": "https://localhost:8080/",
     "height": 204
    },
    "id": "0ec2a638",
    "outputId": "cb25bca9-bd6d-4031-df01-2a37353e81f9"
   },
   "outputs": [
    {
     "data": {
      "text/html": [
       "<div>\n",
       "<style scoped>\n",
       "    .dataframe tbody tr th:only-of-type {\n",
       "        vertical-align: middle;\n",
       "    }\n",
       "\n",
       "    .dataframe tbody tr th {\n",
       "        vertical-align: top;\n",
       "    }\n",
       "\n",
       "    .dataframe thead th {\n",
       "        text-align: right;\n",
       "    }\n",
       "</style>\n",
       "<table border=\"1\" class=\"dataframe\">\n",
       "  <thead>\n",
       "    <tr style=\"text-align: right;\">\n",
       "      <th></th>\n",
       "      <th>age</th>\n",
       "      <th>body_type</th>\n",
       "      <th>diet</th>\n",
       "      <th>drinks</th>\n",
       "      <th>drugs</th>\n",
       "      <th>education</th>\n",
       "      <th>essay0</th>\n",
       "      <th>essay1</th>\n",
       "      <th>essay2</th>\n",
       "      <th>essay3</th>\n",
       "      <th>essay4</th>\n",
       "      <th>essay5</th>\n",
       "      <th>essay6</th>\n",
       "      <th>essay7</th>\n",
       "      <th>essay8</th>\n",
       "      <th>essay9</th>\n",
       "      <th>ethnicity</th>\n",
       "      <th>height</th>\n",
       "      <th>income</th>\n",
       "      <th>job</th>\n",
       "      <th>last_online</th>\n",
       "      <th>location</th>\n",
       "      <th>offspring</th>\n",
       "      <th>orientation</th>\n",
       "      <th>pets</th>\n",
       "      <th>religion</th>\n",
       "      <th>sex</th>\n",
       "      <th>sign</th>\n",
       "      <th>smokes</th>\n",
       "      <th>speaks</th>\n",
       "      <th>status</th>\n",
       "    </tr>\n",
       "  </thead>\n",
       "  <tbody>\n",
       "    <tr>\n",
       "      <th>60547</th>\n",
       "      <td>NaN</td>\n",
       "      <td>NaN</td>\n",
       "      <td>NaN</td>\n",
       "      <td>NaN</td>\n",
       "      <td>NaN</td>\n",
       "      <td>NaN</td>\n",
       "      <td>NaN</td>\n",
       "      <td>NaN</td>\n",
       "      <td>NaN</td>\n",
       "      <td>NaN</td>\n",
       "      <td>NaN</td>\n",
       "      <td>NaN</td>\n",
       "      <td>NaN</td>\n",
       "      <td>NaN</td>\n",
       "      <td>NaN</td>\n",
       "      <td>NaN</td>\n",
       "      <td>NaN</td>\n",
       "      <td>NaN</td>\n",
       "      <td>NaN</td>\n",
       "      <td>NaN</td>\n",
       "      <td>NaN</td>\n",
       "      <td>NaN</td>\n",
       "      <td>NaN</td>\n",
       "      <td>NaN</td>\n",
       "      <td>NaN</td>\n",
       "      <td>NaN</td>\n",
       "      <td>NaN</td>\n",
       "      <td>NaN</td>\n",
       "      <td>NaN</td>\n",
       "      <td>NaN</td>\n",
       "      <td>NaN</td>\n",
       "    </tr>\n",
       "    <tr>\n",
       "      <th>60548</th>\n",
       "      <td>NaN</td>\n",
       "      <td>NaN</td>\n",
       "      <td>NaN</td>\n",
       "      <td>NaN</td>\n",
       "      <td>NaN</td>\n",
       "      <td>NaN</td>\n",
       "      <td>NaN</td>\n",
       "      <td>NaN</td>\n",
       "      <td>NaN</td>\n",
       "      <td>NaN</td>\n",
       "      <td>NaN</td>\n",
       "      <td>NaN</td>\n",
       "      <td>NaN</td>\n",
       "      <td>NaN</td>\n",
       "      <td>NaN</td>\n",
       "      <td>NaN</td>\n",
       "      <td>NaN</td>\n",
       "      <td>NaN</td>\n",
       "      <td>NaN</td>\n",
       "      <td>NaN</td>\n",
       "      <td>NaN</td>\n",
       "      <td>NaN</td>\n",
       "      <td>NaN</td>\n",
       "      <td>NaN</td>\n",
       "      <td>NaN</td>\n",
       "      <td>NaN</td>\n",
       "      <td>NaN</td>\n",
       "      <td>NaN</td>\n",
       "      <td>NaN</td>\n",
       "      <td>NaN</td>\n",
       "      <td>NaN</td>\n",
       "    </tr>\n",
       "    <tr>\n",
       "      <th>60549</th>\n",
       "      <td>NaN</td>\n",
       "      <td>NaN</td>\n",
       "      <td>NaN</td>\n",
       "      <td>NaN</td>\n",
       "      <td>NaN</td>\n",
       "      <td>NaN</td>\n",
       "      <td>NaN</td>\n",
       "      <td>NaN</td>\n",
       "      <td>NaN</td>\n",
       "      <td>NaN</td>\n",
       "      <td>NaN</td>\n",
       "      <td>NaN</td>\n",
       "      <td>NaN</td>\n",
       "      <td>NaN</td>\n",
       "      <td>NaN</td>\n",
       "      <td>NaN</td>\n",
       "      <td>NaN</td>\n",
       "      <td>NaN</td>\n",
       "      <td>NaN</td>\n",
       "      <td>NaN</td>\n",
       "      <td>NaN</td>\n",
       "      <td>NaN</td>\n",
       "      <td>NaN</td>\n",
       "      <td>NaN</td>\n",
       "      <td>NaN</td>\n",
       "      <td>NaN</td>\n",
       "      <td>NaN</td>\n",
       "      <td>NaN</td>\n",
       "      <td>NaN</td>\n",
       "      <td>NaN</td>\n",
       "      <td>NaN</td>\n",
       "    </tr>\n",
       "    <tr>\n",
       "      <th>60550</th>\n",
       "      <td>NaN</td>\n",
       "      <td>NaN</td>\n",
       "      <td>NaN</td>\n",
       "      <td>NaN</td>\n",
       "      <td>NaN</td>\n",
       "      <td>NaN</td>\n",
       "      <td>NaN</td>\n",
       "      <td>NaN</td>\n",
       "      <td>NaN</td>\n",
       "      <td>NaN</td>\n",
       "      <td>NaN</td>\n",
       "      <td>NaN</td>\n",
       "      <td>NaN</td>\n",
       "      <td>NaN</td>\n",
       "      <td>NaN</td>\n",
       "      <td>NaN</td>\n",
       "      <td>NaN</td>\n",
       "      <td>NaN</td>\n",
       "      <td>NaN</td>\n",
       "      <td>NaN</td>\n",
       "      <td>NaN</td>\n",
       "      <td>NaN</td>\n",
       "      <td>NaN</td>\n",
       "      <td>NaN</td>\n",
       "      <td>NaN</td>\n",
       "      <td>NaN</td>\n",
       "      <td>NaN</td>\n",
       "      <td>NaN</td>\n",
       "      <td>NaN</td>\n",
       "      <td>NaN</td>\n",
       "      <td>NaN</td>\n",
       "    </tr>\n",
       "    <tr>\n",
       "      <th>60551</th>\n",
       "      <td>NaN</td>\n",
       "      <td>NaN</td>\n",
       "      <td>NaN</td>\n",
       "      <td>NaN</td>\n",
       "      <td>NaN</td>\n",
       "      <td>NaN</td>\n",
       "      <td>NaN</td>\n",
       "      <td>NaN</td>\n",
       "      <td>NaN</td>\n",
       "      <td>NaN</td>\n",
       "      <td>NaN</td>\n",
       "      <td>NaN</td>\n",
       "      <td>NaN</td>\n",
       "      <td>NaN</td>\n",
       "      <td>NaN</td>\n",
       "      <td>NaN</td>\n",
       "      <td>NaN</td>\n",
       "      <td>NaN</td>\n",
       "      <td>NaN</td>\n",
       "      <td>NaN</td>\n",
       "      <td>NaN</td>\n",
       "      <td>NaN</td>\n",
       "      <td>NaN</td>\n",
       "      <td>NaN</td>\n",
       "      <td>NaN</td>\n",
       "      <td>NaN</td>\n",
       "      <td>NaN</td>\n",
       "      <td>NaN</td>\n",
       "      <td>NaN</td>\n",
       "      <td>NaN</td>\n",
       "      <td>NaN</td>\n",
       "    </tr>\n",
       "  </tbody>\n",
       "</table>\n",
       "</div>"
      ],
      "text/plain": [
       "       age body_type diet drinks drugs education essay0 essay1 essay2 essay3  \\\n",
       "60547  NaN       NaN  NaN    NaN   NaN       NaN    NaN    NaN    NaN    NaN   \n",
       "60548  NaN       NaN  NaN    NaN   NaN       NaN    NaN    NaN    NaN    NaN   \n",
       "60549  NaN       NaN  NaN    NaN   NaN       NaN    NaN    NaN    NaN    NaN   \n",
       "60550  NaN       NaN  NaN    NaN   NaN       NaN    NaN    NaN    NaN    NaN   \n",
       "60551  NaN       NaN  NaN    NaN   NaN       NaN    NaN    NaN    NaN    NaN   \n",
       "\n",
       "      essay4 essay5 essay6 essay7 essay8 essay9 ethnicity  height  income  \\\n",
       "60547    NaN    NaN    NaN    NaN    NaN    NaN       NaN     NaN     NaN   \n",
       "60548    NaN    NaN    NaN    NaN    NaN    NaN       NaN     NaN     NaN   \n",
       "60549    NaN    NaN    NaN    NaN    NaN    NaN       NaN     NaN     NaN   \n",
       "60550    NaN    NaN    NaN    NaN    NaN    NaN       NaN     NaN     NaN   \n",
       "60551    NaN    NaN    NaN    NaN    NaN    NaN       NaN     NaN     NaN   \n",
       "\n",
       "       job last_online location offspring orientation pets religion  sex sign  \\\n",
       "60547  NaN         NaN      NaN       NaN         NaN  NaN      NaN  NaN  NaN   \n",
       "60548  NaN         NaN      NaN       NaN         NaN  NaN      NaN  NaN  NaN   \n",
       "60549  NaN         NaN      NaN       NaN         NaN  NaN      NaN  NaN  NaN   \n",
       "60550  NaN         NaN      NaN       NaN         NaN  NaN      NaN  NaN  NaN   \n",
       "60551  NaN         NaN      NaN       NaN         NaN  NaN      NaN  NaN  NaN   \n",
       "\n",
       "      smokes speaks status  \n",
       "60547    NaN    NaN    NaN  \n",
       "60548    NaN    NaN    NaN  \n",
       "60549    NaN    NaN    NaN  \n",
       "60550    NaN    NaN    NaN  \n",
       "60551    NaN    NaN    NaN  "
      ]
     },
     "execution_count": 5,
     "metadata": {},
     "output_type": "execute_result"
    }
   ],
   "source": [
    "df.tail()"
   ]
  },
  {
   "cell_type": "code",
   "execution_count": 6,
   "id": "85efdadd",
   "metadata": {
    "colab": {
     "base_uri": "https://localhost:8080/"
    },
    "id": "85efdadd",
    "outputId": "9e549da5-5cef-462d-8aa4-5b044302a514"
   },
   "outputs": [
    {
     "name": "stdout",
     "output_type": "stream",
     "text": [
      "<class 'pandas.core.frame.DataFrame'>\n",
      "RangeIndex: 60552 entries, 0 to 60551\n",
      "Data columns (total 31 columns):\n",
      " #   Column       Non-Null Count  Dtype  \n",
      "---  ------       --------------  -----  \n",
      " 0   age          9514 non-null   float64\n",
      " 1   body_type    8666 non-null   object \n",
      " 2   diet         5761 non-null   object \n",
      " 3   drinks       9012 non-null   object \n",
      " 4   drugs        7215 non-null   object \n",
      " 5   education    8459 non-null   object \n",
      " 6   essay0       8667 non-null   object \n",
      " 7   essay1       8347 non-null   object \n",
      " 8   essay2       8049 non-null   object \n",
      " 9   essay3       7690 non-null   object \n",
      " 10  essay4       7879 non-null   object \n",
      " 11  essay5       7814 non-null   object \n",
      " 12  essay6       7352 non-null   object \n",
      " 13  essay7       7553 non-null   object \n",
      " 14  essay8       6361 non-null   object \n",
      " 15  essay9       7554 non-null   object \n",
      " 16  ethnicity    8565 non-null   object \n",
      " 17  height       9514 non-null   float64\n",
      " 18  income       9514 non-null   float64\n",
      " 19  job          8183 non-null   object \n",
      " 20  last_online  9514 non-null   object \n",
      " 21  location     9514 non-null   object \n",
      " 22  offspring    3886 non-null   object \n",
      " 23  orientation  9514 non-null   object \n",
      " 24  pets         6352 non-null   object \n",
      " 25  religion     6261 non-null   object \n",
      " 26  sex          9514 non-null   object \n",
      " 27  sign         7776 non-null   object \n",
      " 28  smokes       8596 non-null   object \n",
      " 29  speaks       9508 non-null   object \n",
      " 30  status       9514 non-null   object \n",
      "dtypes: float64(3), object(28)\n",
      "memory usage: 14.3+ MB\n"
     ]
    }
   ],
   "source": [
    "df.info()"
   ]
  },
  {
   "cell_type": "code",
   "execution_count": 7,
   "id": "f55fbd6f",
   "metadata": {
    "id": "f55fbd6f"
   },
   "outputs": [],
   "source": [
    "df=df.drop_duplicates(keep=False)"
   ]
  },
  {
   "cell_type": "code",
   "execution_count": 8,
   "id": "be50a003",
   "metadata": {
    "colab": {
     "base_uri": "https://localhost:8080/",
     "height": 683
    },
    "id": "be50a003",
    "outputId": "25342595-bb23-4004-dc09-287212fcfc00"
   },
   "outputs": [
    {
     "data": {
      "text/html": [
       "<div>\n",
       "<style scoped>\n",
       "    .dataframe tbody tr th:only-of-type {\n",
       "        vertical-align: middle;\n",
       "    }\n",
       "\n",
       "    .dataframe tbody tr th {\n",
       "        vertical-align: top;\n",
       "    }\n",
       "\n",
       "    .dataframe thead th {\n",
       "        text-align: right;\n",
       "    }\n",
       "</style>\n",
       "<table border=\"1\" class=\"dataframe\">\n",
       "  <thead>\n",
       "    <tr style=\"text-align: right;\">\n",
       "      <th></th>\n",
       "      <th>age</th>\n",
       "      <th>body_type</th>\n",
       "      <th>diet</th>\n",
       "      <th>drinks</th>\n",
       "      <th>drugs</th>\n",
       "      <th>education</th>\n",
       "      <th>essay0</th>\n",
       "      <th>essay1</th>\n",
       "      <th>essay2</th>\n",
       "      <th>essay3</th>\n",
       "      <th>essay4</th>\n",
       "      <th>essay5</th>\n",
       "      <th>essay6</th>\n",
       "      <th>essay7</th>\n",
       "      <th>essay8</th>\n",
       "      <th>essay9</th>\n",
       "      <th>ethnicity</th>\n",
       "      <th>height</th>\n",
       "      <th>income</th>\n",
       "      <th>job</th>\n",
       "      <th>last_online</th>\n",
       "      <th>location</th>\n",
       "      <th>offspring</th>\n",
       "      <th>orientation</th>\n",
       "      <th>pets</th>\n",
       "      <th>religion</th>\n",
       "      <th>sex</th>\n",
       "      <th>sign</th>\n",
       "      <th>smokes</th>\n",
       "      <th>speaks</th>\n",
       "      <th>status</th>\n",
       "    </tr>\n",
       "  </thead>\n",
       "  <tbody>\n",
       "    <tr>\n",
       "      <th>9509</th>\n",
       "      <td>28.0</td>\n",
       "      <td>athletic</td>\n",
       "      <td>strictly anything</td>\n",
       "      <td>socially</td>\n",
       "      <td>never</td>\n",
       "      <td>working on med school</td>\n",
       "      <td>just a normal guy looking for someone around m...</td>\n",
       "      <td>working hard and studying. things are always f...</td>\n",
       "      <td>i'm excellent with oncology, numbers and algor...</td>\n",
       "      <td>my eyes change color.&lt;br /&gt;\\n&lt;br /&gt;\\ni smirk a...</td>\n",
       "      <td>foo fighters, oasis, bloc party, doves, incubu...</td>\n",
       "      <td>my family and i all live here and i can't thin...</td>\n",
       "      <td>somewhere fun to go or something good to eat.</td>\n",
       "      <td>studying, followed by shenanigans.</td>\n",
       "      <td>i've actually had some success on here, met so...</td>\n",
       "      <td>you've got something to say. or if there's som...</td>\n",
       "      <td>white</td>\n",
       "      <td>73.0</td>\n",
       "      <td>60000.0</td>\n",
       "      <td>medicine / health</td>\n",
       "      <td>2012-06-30-02-49</td>\n",
       "      <td>san francisco, california</td>\n",
       "      <td>doesn&amp;rsquo;t have kids, but wants them</td>\n",
       "      <td>straight</td>\n",
       "      <td>likes dogs and likes cats</td>\n",
       "      <td>christianity</td>\n",
       "      <td>m</td>\n",
       "      <td>aries and it&amp;rsquo;s fun to think about</td>\n",
       "      <td>no</td>\n",
       "      <td>english, spanish (okay)</td>\n",
       "      <td>single</td>\n",
       "    </tr>\n",
       "    <tr>\n",
       "      <th>9510</th>\n",
       "      <td>31.0</td>\n",
       "      <td>athletic</td>\n",
       "      <td>mostly anything</td>\n",
       "      <td>socially</td>\n",
       "      <td>sometimes</td>\n",
       "      <td>NaN</td>\n",
       "      <td>i work in the beauty salon as a hairstylist fo...</td>\n",
       "      <td>making your hair look beautiful.</td>\n",
       "      <td>i'm a hairstylist and love making hair look be...</td>\n",
       "      <td>i am different.</td>\n",
       "      <td>NaN</td>\n",
       "      <td>money&lt;br /&gt;\\ncell phone&lt;br /&gt;\\ncomputer&lt;br /&gt;\\...</td>\n",
       "      <td>how to be rich.</td>\n",
       "      <td>working and making your hair look beautiful an...</td>\n",
       "      <td>NaN</td>\n",
       "      <td>you like my profile and hair.</td>\n",
       "      <td>white</td>\n",
       "      <td>72.0</td>\n",
       "      <td>-1.0</td>\n",
       "      <td>hospitality / travel</td>\n",
       "      <td>2012-04-05-21-46</td>\n",
       "      <td>san francisco, california</td>\n",
       "      <td>NaN</td>\n",
       "      <td>gay</td>\n",
       "      <td>NaN</td>\n",
       "      <td>atheism</td>\n",
       "      <td>m</td>\n",
       "      <td>scorpio but it doesn&amp;rsquo;t matter</td>\n",
       "      <td>sometimes</td>\n",
       "      <td>english</td>\n",
       "      <td>single</td>\n",
       "    </tr>\n",
       "    <tr>\n",
       "      <th>9511</th>\n",
       "      <td>34.0</td>\n",
       "      <td>average</td>\n",
       "      <td>NaN</td>\n",
       "      <td>socially</td>\n",
       "      <td>NaN</td>\n",
       "      <td>dropped out of college/university</td>\n",
       "      <td>33 year old, hiv +,versatile gwm, bearish type...</td>\n",
       "      <td>i've just recently moved to beautiful san fran...</td>\n",
       "      <td>buying \"crap\" at random places and then sellin...</td>\n",
       "      <td>i usually go unnoticed.......</td>\n",
       "      <td>my favorite books - i don't read as much as i ...</td>\n",
       "      <td>-my record player&lt;br /&gt;\\n-my internet connecti...</td>\n",
       "      <td>nothing and everything all at once</td>\n",
       "      <td>probably working. then having drinks in the ca...</td>\n",
       "      <td>i smoke marijuana, but nothing harder.</td>\n",
       "      <td>you're interested, duh!?!?</td>\n",
       "      <td>white</td>\n",
       "      <td>71.0</td>\n",
       "      <td>-1.0</td>\n",
       "      <td>hospitality / travel</td>\n",
       "      <td>2012-04-28-12-42</td>\n",
       "      <td>san francisco, california</td>\n",
       "      <td>doesn&amp;rsquo;t want kids</td>\n",
       "      <td>gay</td>\n",
       "      <td>likes dogs and has cats</td>\n",
       "      <td>atheism and laughing about it</td>\n",
       "      <td>m</td>\n",
       "      <td>leo and it&amp;rsquo;s fun to think about</td>\n",
       "      <td>when drinking</td>\n",
       "      <td>english (fluently)</td>\n",
       "      <td>single</td>\n",
       "    </tr>\n",
       "    <tr>\n",
       "      <th>9512</th>\n",
       "      <td>29.0</td>\n",
       "      <td>athletic</td>\n",
       "      <td>anything</td>\n",
       "      <td>rarely</td>\n",
       "      <td>never</td>\n",
       "      <td>two-year college</td>\n",
       "      <td>NaN</td>\n",
       "      <td>NaN</td>\n",
       "      <td>NaN</td>\n",
       "      <td>NaN</td>\n",
       "      <td>NaN</td>\n",
       "      <td>NaN</td>\n",
       "      <td>NaN</td>\n",
       "      <td>NaN</td>\n",
       "      <td>NaN</td>\n",
       "      <td>NaN</td>\n",
       "      <td>white</td>\n",
       "      <td>70.0</td>\n",
       "      <td>-1.0</td>\n",
       "      <td>NaN</td>\n",
       "      <td>2012-03-01-15-17</td>\n",
       "      <td>san francisco, california</td>\n",
       "      <td>doesn&amp;rsquo;t have kids, and doesn&amp;rsquo;t wan...</td>\n",
       "      <td>gay</td>\n",
       "      <td>likes dogs and has cats</td>\n",
       "      <td>NaN</td>\n",
       "      <td>m</td>\n",
       "      <td>aries</td>\n",
       "      <td>no</td>\n",
       "      <td>english (fluently), french (okay), swedish (po...</td>\n",
       "      <td>single</td>\n",
       "    </tr>\n",
       "    <tr>\n",
       "      <th>9513</th>\n",
       "      <td>49.0</td>\n",
       "      <td>overweight</td>\n",
       "      <td>NaN</td>\n",
       "      <td>rarely</td>\n",
       "      <td>never</td>\n",
       "      <td>graduated from college/university</td>\n",
       "      <td>NaN</td>\n",
       "      <td>NaN</td>\n",
       "      <td>NaN</td>\n",
       "      <td>NaN</td>\n",
       "      <td>books: biographies, history, harry potter, mys...</td>\n",
       "      <td>the internet, art supplies, family, garden, my...</td>\n",
       "      <td>NaN</td>\n",
       "      <td>NaN</td>\n",
       "      <td>NaN</td>\n",
       "      <td>NaN</td>\n",
       "      <td>white</td>\n",
       "      <td>64.0</td>\n",
       "      <td>-1.0</td>\n",
       "      <td>rather not say</td>\n",
       "      <td>2012-06-14-15-14</td>\n",
       "      <td>castro valley, california</td>\n",
       "      <td>NaN</td>\n",
       "      <td>straight</td>\n",
       "      <td>likes dogs and likes cats</td>\n",
       "      <td>NaN</td>\n",
       "      <td>f</td>\n",
       "      <td>pisces and it&amp;rsquo;s fun to think about</td>\n",
       "      <td>no</td>\n",
       "      <td>english</td>\n",
       "      <td>single</td>\n",
       "    </tr>\n",
       "  </tbody>\n",
       "</table>\n",
       "</div>"
      ],
      "text/plain": [
       "       age   body_type               diet    drinks      drugs  \\\n",
       "9509  28.0    athletic  strictly anything  socially      never   \n",
       "9510  31.0    athletic    mostly anything  socially  sometimes   \n",
       "9511  34.0     average                NaN  socially        NaN   \n",
       "9512  29.0    athletic           anything    rarely      never   \n",
       "9513  49.0  overweight                NaN    rarely      never   \n",
       "\n",
       "                              education  \\\n",
       "9509              working on med school   \n",
       "9510                                NaN   \n",
       "9511  dropped out of college/university   \n",
       "9512                   two-year college   \n",
       "9513  graduated from college/university   \n",
       "\n",
       "                                                 essay0  \\\n",
       "9509  just a normal guy looking for someone around m...   \n",
       "9510  i work in the beauty salon as a hairstylist fo...   \n",
       "9511  33 year old, hiv +,versatile gwm, bearish type...   \n",
       "9512                                                NaN   \n",
       "9513                                                NaN   \n",
       "\n",
       "                                                 essay1  \\\n",
       "9509  working hard and studying. things are always f...   \n",
       "9510                   making your hair look beautiful.   \n",
       "9511  i've just recently moved to beautiful san fran...   \n",
       "9512                                                NaN   \n",
       "9513                                                NaN   \n",
       "\n",
       "                                                 essay2  \\\n",
       "9509  i'm excellent with oncology, numbers and algor...   \n",
       "9510  i'm a hairstylist and love making hair look be...   \n",
       "9511  buying \"crap\" at random places and then sellin...   \n",
       "9512                                                NaN   \n",
       "9513                                                NaN   \n",
       "\n",
       "                                                 essay3  \\\n",
       "9509  my eyes change color.<br />\\n<br />\\ni smirk a...   \n",
       "9510                                    i am different.   \n",
       "9511                      i usually go unnoticed.......   \n",
       "9512                                                NaN   \n",
       "9513                                                NaN   \n",
       "\n",
       "                                                 essay4  \\\n",
       "9509  foo fighters, oasis, bloc party, doves, incubu...   \n",
       "9510                                                NaN   \n",
       "9511  my favorite books - i don't read as much as i ...   \n",
       "9512                                                NaN   \n",
       "9513  books: biographies, history, harry potter, mys...   \n",
       "\n",
       "                                                 essay5  \\\n",
       "9509  my family and i all live here and i can't thin...   \n",
       "9510  money<br />\\ncell phone<br />\\ncomputer<br />\\...   \n",
       "9511  -my record player<br />\\n-my internet connecti...   \n",
       "9512                                                NaN   \n",
       "9513  the internet, art supplies, family, garden, my...   \n",
       "\n",
       "                                             essay6  \\\n",
       "9509  somewhere fun to go or something good to eat.   \n",
       "9510                                how to be rich.   \n",
       "9511             nothing and everything all at once   \n",
       "9512                                            NaN   \n",
       "9513                                            NaN   \n",
       "\n",
       "                                                 essay7  \\\n",
       "9509                 studying, followed by shenanigans.   \n",
       "9510  working and making your hair look beautiful an...   \n",
       "9511  probably working. then having drinks in the ca...   \n",
       "9512                                                NaN   \n",
       "9513                                                NaN   \n",
       "\n",
       "                                                 essay8  \\\n",
       "9509  i've actually had some success on here, met so...   \n",
       "9510                                                NaN   \n",
       "9511             i smoke marijuana, but nothing harder.   \n",
       "9512                                                NaN   \n",
       "9513                                                NaN   \n",
       "\n",
       "                                                 essay9 ethnicity  height  \\\n",
       "9509  you've got something to say. or if there's som...     white    73.0   \n",
       "9510                      you like my profile and hair.     white    72.0   \n",
       "9511                         you're interested, duh!?!?     white    71.0   \n",
       "9512                                                NaN     white    70.0   \n",
       "9513                                                NaN     white    64.0   \n",
       "\n",
       "       income                   job       last_online  \\\n",
       "9509  60000.0     medicine / health  2012-06-30-02-49   \n",
       "9510     -1.0  hospitality / travel  2012-04-05-21-46   \n",
       "9511     -1.0  hospitality / travel  2012-04-28-12-42   \n",
       "9512     -1.0                   NaN  2012-03-01-15-17   \n",
       "9513     -1.0        rather not say  2012-06-14-15-14   \n",
       "\n",
       "                       location  \\\n",
       "9509  san francisco, california   \n",
       "9510  san francisco, california   \n",
       "9511  san francisco, california   \n",
       "9512  san francisco, california   \n",
       "9513  castro valley, california   \n",
       "\n",
       "                                              offspring orientation  \\\n",
       "9509            doesn&rsquo;t have kids, but wants them    straight   \n",
       "9510                                                NaN         gay   \n",
       "9511                            doesn&rsquo;t want kids         gay   \n",
       "9512  doesn&rsquo;t have kids, and doesn&rsquo;t wan...         gay   \n",
       "9513                                                NaN    straight   \n",
       "\n",
       "                           pets                       religion sex  \\\n",
       "9509  likes dogs and likes cats                   christianity   m   \n",
       "9510                        NaN                        atheism   m   \n",
       "9511    likes dogs and has cats  atheism and laughing about it   m   \n",
       "9512    likes dogs and has cats                            NaN   m   \n",
       "9513  likes dogs and likes cats                            NaN   f   \n",
       "\n",
       "                                          sign         smokes  \\\n",
       "9509   aries and it&rsquo;s fun to think about             no   \n",
       "9510       scorpio but it doesn&rsquo;t matter      sometimes   \n",
       "9511     leo and it&rsquo;s fun to think about  when drinking   \n",
       "9512                                     aries             no   \n",
       "9513  pisces and it&rsquo;s fun to think about             no   \n",
       "\n",
       "                                                 speaks  status  \n",
       "9509                            english, spanish (okay)  single  \n",
       "9510                                            english  single  \n",
       "9511                                 english (fluently)  single  \n",
       "9512  english (fluently), french (okay), swedish (po...  single  \n",
       "9513                                            english  single  "
      ]
     },
     "execution_count": 8,
     "metadata": {},
     "output_type": "execute_result"
    }
   ],
   "source": [
    "df.tail()"
   ]
  },
  {
   "cell_type": "code",
   "execution_count": 9,
   "id": "802ff9fc",
   "metadata": {
    "id": "802ff9fc"
   },
   "outputs": [],
   "source": [
    "for i in df:\n",
    "    if (\"essay\" in i):\n",
    "        df.drop(i,axis=1,inplace=True)"
   ]
  },
  {
   "cell_type": "code",
   "execution_count": 10,
   "id": "1f0f9c91",
   "metadata": {
    "colab": {
     "base_uri": "https://localhost:8080/"
    },
    "id": "1f0f9c91",
    "outputId": "1b9d2645-c664-447d-b191-21eac61d2574"
   },
   "outputs": [
    {
     "data": {
      "text/plain": [
       "array(['a little extra', 'average', 'thin', 'athletic', 'fit', nan,\n",
       "       'skinny', 'curvy', 'full figured', 'jacked', 'rather not say',\n",
       "       'used up', 'overweight'], dtype=object)"
      ]
     },
     "execution_count": 10,
     "metadata": {},
     "output_type": "execute_result"
    }
   ],
   "source": [
    "df[\"body_type\"].unique()"
   ]
  },
  {
   "cell_type": "code",
   "execution_count": 11,
   "id": "11f7f21a",
   "metadata": {
    "colab": {
     "base_uri": "https://localhost:8080/",
     "height": 640
    },
    "id": "11f7f21a",
    "outputId": "c706bb14-6e4a-4f24-ab39-75f961349f2e"
   },
   "outputs": [
    {
     "data": {
      "text/html": [
       "<div>\n",
       "<style scoped>\n",
       "    .dataframe tbody tr th:only-of-type {\n",
       "        vertical-align: middle;\n",
       "    }\n",
       "\n",
       "    .dataframe tbody tr th {\n",
       "        vertical-align: top;\n",
       "    }\n",
       "\n",
       "    .dataframe thead th {\n",
       "        text-align: right;\n",
       "    }\n",
       "</style>\n",
       "<table border=\"1\" class=\"dataframe\">\n",
       "  <thead>\n",
       "    <tr style=\"text-align: right;\">\n",
       "      <th></th>\n",
       "      <th>age</th>\n",
       "      <th>body_type</th>\n",
       "      <th>diet</th>\n",
       "      <th>drinks</th>\n",
       "      <th>drugs</th>\n",
       "      <th>education</th>\n",
       "      <th>ethnicity</th>\n",
       "      <th>height</th>\n",
       "      <th>income</th>\n",
       "      <th>job</th>\n",
       "      <th>last_online</th>\n",
       "      <th>location</th>\n",
       "      <th>offspring</th>\n",
       "      <th>orientation</th>\n",
       "      <th>pets</th>\n",
       "      <th>religion</th>\n",
       "      <th>sex</th>\n",
       "      <th>sign</th>\n",
       "      <th>smokes</th>\n",
       "      <th>speaks</th>\n",
       "      <th>status</th>\n",
       "    </tr>\n",
       "  </thead>\n",
       "  <tbody>\n",
       "    <tr>\n",
       "      <th>6</th>\n",
       "      <td>32.0</td>\n",
       "      <td>fit</td>\n",
       "      <td>strictly anything</td>\n",
       "      <td>socially</td>\n",
       "      <td>never</td>\n",
       "      <td>graduated from college/university</td>\n",
       "      <td>white, other</td>\n",
       "      <td>65.0</td>\n",
       "      <td>-1.0</td>\n",
       "      <td>NaN</td>\n",
       "      <td>2012-06-25-20-45</td>\n",
       "      <td>san francisco, california</td>\n",
       "      <td>NaN</td>\n",
       "      <td>straight</td>\n",
       "      <td>likes dogs and likes cats</td>\n",
       "      <td>NaN</td>\n",
       "      <td>f</td>\n",
       "      <td>virgo</td>\n",
       "      <td>NaN</td>\n",
       "      <td>english</td>\n",
       "      <td>single</td>\n",
       "    </tr>\n",
       "    <tr>\n",
       "      <th>7</th>\n",
       "      <td>31.0</td>\n",
       "      <td>average</td>\n",
       "      <td>mostly anything</td>\n",
       "      <td>socially</td>\n",
       "      <td>never</td>\n",
       "      <td>graduated from college/university</td>\n",
       "      <td>white</td>\n",
       "      <td>65.0</td>\n",
       "      <td>-1.0</td>\n",
       "      <td>artistic / musical / writer</td>\n",
       "      <td>2012-06-29-12-30</td>\n",
       "      <td>san francisco, california</td>\n",
       "      <td>doesn&amp;rsquo;t have kids, but wants them</td>\n",
       "      <td>straight</td>\n",
       "      <td>likes dogs and likes cats</td>\n",
       "      <td>christianity</td>\n",
       "      <td>f</td>\n",
       "      <td>sagittarius</td>\n",
       "      <td>no</td>\n",
       "      <td>english, spanish (okay)</td>\n",
       "      <td>single</td>\n",
       "    </tr>\n",
       "    <tr>\n",
       "      <th>8</th>\n",
       "      <td>24.0</td>\n",
       "      <td>NaN</td>\n",
       "      <td>strictly anything</td>\n",
       "      <td>socially</td>\n",
       "      <td>NaN</td>\n",
       "      <td>graduated from college/university</td>\n",
       "      <td>white</td>\n",
       "      <td>67.0</td>\n",
       "      <td>-1.0</td>\n",
       "      <td>NaN</td>\n",
       "      <td>2012-06-29-23-39</td>\n",
       "      <td>belvedere tiburon, california</td>\n",
       "      <td>doesn&amp;rsquo;t have kids</td>\n",
       "      <td>straight</td>\n",
       "      <td>likes dogs and likes cats</td>\n",
       "      <td>christianity but not too serious about it</td>\n",
       "      <td>f</td>\n",
       "      <td>gemini but it doesn&amp;rsquo;t matter</td>\n",
       "      <td>when drinking</td>\n",
       "      <td>english</td>\n",
       "      <td>single</td>\n",
       "    </tr>\n",
       "    <tr>\n",
       "      <th>13</th>\n",
       "      <td>30.0</td>\n",
       "      <td>skinny</td>\n",
       "      <td>mostly anything</td>\n",
       "      <td>socially</td>\n",
       "      <td>never</td>\n",
       "      <td>graduated from high school</td>\n",
       "      <td>white</td>\n",
       "      <td>66.0</td>\n",
       "      <td>30000.0</td>\n",
       "      <td>sales / marketing / biz dev</td>\n",
       "      <td>2012-06-13-16-06</td>\n",
       "      <td>san francisco, california</td>\n",
       "      <td>NaN</td>\n",
       "      <td>straight</td>\n",
       "      <td>has dogs and likes cats</td>\n",
       "      <td>christianity but not too serious about it</td>\n",
       "      <td>f</td>\n",
       "      <td>NaN</td>\n",
       "      <td>no</td>\n",
       "      <td>english</td>\n",
       "      <td>single</td>\n",
       "    </tr>\n",
       "    <tr>\n",
       "      <th>14</th>\n",
       "      <td>29.0</td>\n",
       "      <td>thin</td>\n",
       "      <td>mostly anything</td>\n",
       "      <td>socially</td>\n",
       "      <td>never</td>\n",
       "      <td>working on college/university</td>\n",
       "      <td>hispanic / latin, white</td>\n",
       "      <td>62.0</td>\n",
       "      <td>50000.0</td>\n",
       "      <td>other</td>\n",
       "      <td>2012-06-29-08-55</td>\n",
       "      <td>san leandro, california</td>\n",
       "      <td>doesn&amp;rsquo;t have kids, but wants them</td>\n",
       "      <td>straight</td>\n",
       "      <td>likes dogs and has cats</td>\n",
       "      <td>catholicism</td>\n",
       "      <td>f</td>\n",
       "      <td>taurus</td>\n",
       "      <td>no</td>\n",
       "      <td>english</td>\n",
       "      <td>single</td>\n",
       "    </tr>\n",
       "    <tr>\n",
       "      <th>...</th>\n",
       "      <td>...</td>\n",
       "      <td>...</td>\n",
       "      <td>...</td>\n",
       "      <td>...</td>\n",
       "      <td>...</td>\n",
       "      <td>...</td>\n",
       "      <td>...</td>\n",
       "      <td>...</td>\n",
       "      <td>...</td>\n",
       "      <td>...</td>\n",
       "      <td>...</td>\n",
       "      <td>...</td>\n",
       "      <td>...</td>\n",
       "      <td>...</td>\n",
       "      <td>...</td>\n",
       "      <td>...</td>\n",
       "      <td>...</td>\n",
       "      <td>...</td>\n",
       "      <td>...</td>\n",
       "      <td>...</td>\n",
       "      <td>...</td>\n",
       "    </tr>\n",
       "    <tr>\n",
       "      <th>9503</th>\n",
       "      <td>34.0</td>\n",
       "      <td>average</td>\n",
       "      <td>mostly anything</td>\n",
       "      <td>socially</td>\n",
       "      <td>never</td>\n",
       "      <td>graduated from law school</td>\n",
       "      <td>white</td>\n",
       "      <td>67.0</td>\n",
       "      <td>-1.0</td>\n",
       "      <td>law / legal services</td>\n",
       "      <td>2012-06-29-20-47</td>\n",
       "      <td>alameda, california</td>\n",
       "      <td>has a kid</td>\n",
       "      <td>straight</td>\n",
       "      <td>has dogs</td>\n",
       "      <td>christianity but not too serious about it</td>\n",
       "      <td>f</td>\n",
       "      <td>leo and it&amp;rsquo;s fun to think about</td>\n",
       "      <td>no</td>\n",
       "      <td>english</td>\n",
       "      <td>single</td>\n",
       "    </tr>\n",
       "    <tr>\n",
       "      <th>9505</th>\n",
       "      <td>33.0</td>\n",
       "      <td>fit</td>\n",
       "      <td>mostly anything</td>\n",
       "      <td>socially</td>\n",
       "      <td>never</td>\n",
       "      <td>graduated from college/university</td>\n",
       "      <td>hispanic / latin</td>\n",
       "      <td>63.0</td>\n",
       "      <td>-1.0</td>\n",
       "      <td>artistic / musical / writer</td>\n",
       "      <td>2012-06-29-09-20</td>\n",
       "      <td>san francisco, california</td>\n",
       "      <td>doesn&amp;rsquo;t have kids</td>\n",
       "      <td>straight</td>\n",
       "      <td>has dogs</td>\n",
       "      <td>NaN</td>\n",
       "      <td>f</td>\n",
       "      <td>virgo</td>\n",
       "      <td>no</td>\n",
       "      <td>english (fluently), spanish (okay)</td>\n",
       "      <td>single</td>\n",
       "    </tr>\n",
       "    <tr>\n",
       "      <th>9506</th>\n",
       "      <td>43.0</td>\n",
       "      <td>athletic</td>\n",
       "      <td>mostly vegetarian</td>\n",
       "      <td>socially</td>\n",
       "      <td>NaN</td>\n",
       "      <td>graduated from college/university</td>\n",
       "      <td>white</td>\n",
       "      <td>65.0</td>\n",
       "      <td>-1.0</td>\n",
       "      <td>artistic / musical / writer</td>\n",
       "      <td>2012-06-29-16-17</td>\n",
       "      <td>belvedere tiburon, california</td>\n",
       "      <td>doesn&amp;rsquo;t have kids</td>\n",
       "      <td>straight</td>\n",
       "      <td>likes dogs and likes cats</td>\n",
       "      <td>other and somewhat serious about it</td>\n",
       "      <td>f</td>\n",
       "      <td>leo and it&amp;rsquo;s fun to think about</td>\n",
       "      <td>no</td>\n",
       "      <td>english (fluently), spanish (poorly)</td>\n",
       "      <td>single</td>\n",
       "    </tr>\n",
       "    <tr>\n",
       "      <th>9508</th>\n",
       "      <td>62.0</td>\n",
       "      <td>average</td>\n",
       "      <td>NaN</td>\n",
       "      <td>socially</td>\n",
       "      <td>never</td>\n",
       "      <td>graduated from college/university</td>\n",
       "      <td>asian</td>\n",
       "      <td>60.0</td>\n",
       "      <td>-1.0</td>\n",
       "      <td>rather not say</td>\n",
       "      <td>2011-07-24-17-18</td>\n",
       "      <td>san francisco, california</td>\n",
       "      <td>has a kid</td>\n",
       "      <td>straight</td>\n",
       "      <td>has dogs and dislikes cats</td>\n",
       "      <td>catholicism but not too serious about it</td>\n",
       "      <td>f</td>\n",
       "      <td>libra and it matters a lot</td>\n",
       "      <td>no</td>\n",
       "      <td>english (fluently)</td>\n",
       "      <td>single</td>\n",
       "    </tr>\n",
       "    <tr>\n",
       "      <th>9513</th>\n",
       "      <td>49.0</td>\n",
       "      <td>overweight</td>\n",
       "      <td>NaN</td>\n",
       "      <td>rarely</td>\n",
       "      <td>never</td>\n",
       "      <td>graduated from college/university</td>\n",
       "      <td>white</td>\n",
       "      <td>64.0</td>\n",
       "      <td>-1.0</td>\n",
       "      <td>rather not say</td>\n",
       "      <td>2012-06-14-15-14</td>\n",
       "      <td>castro valley, california</td>\n",
       "      <td>NaN</td>\n",
       "      <td>straight</td>\n",
       "      <td>likes dogs and likes cats</td>\n",
       "      <td>NaN</td>\n",
       "      <td>f</td>\n",
       "      <td>pisces and it&amp;rsquo;s fun to think about</td>\n",
       "      <td>no</td>\n",
       "      <td>english</td>\n",
       "      <td>single</td>\n",
       "    </tr>\n",
       "  </tbody>\n",
       "</table>\n",
       "<p>3839 rows × 21 columns</p>\n",
       "</div>"
      ],
      "text/plain": [
       "       age   body_type               diet    drinks  drugs  \\\n",
       "6     32.0         fit  strictly anything  socially  never   \n",
       "7     31.0     average    mostly anything  socially  never   \n",
       "8     24.0         NaN  strictly anything  socially    NaN   \n",
       "13    30.0      skinny    mostly anything  socially  never   \n",
       "14    29.0        thin    mostly anything  socially  never   \n",
       "...    ...         ...                ...       ...    ...   \n",
       "9503  34.0     average    mostly anything  socially  never   \n",
       "9505  33.0         fit    mostly anything  socially  never   \n",
       "9506  43.0    athletic  mostly vegetarian  socially    NaN   \n",
       "9508  62.0     average                NaN  socially  never   \n",
       "9513  49.0  overweight                NaN    rarely  never   \n",
       "\n",
       "                              education                ethnicity  height  \\\n",
       "6     graduated from college/university             white, other    65.0   \n",
       "7     graduated from college/university                    white    65.0   \n",
       "8     graduated from college/university                    white    67.0   \n",
       "13           graduated from high school                    white    66.0   \n",
       "14        working on college/university  hispanic / latin, white    62.0   \n",
       "...                                 ...                      ...     ...   \n",
       "9503          graduated from law school                    white    67.0   \n",
       "9505  graduated from college/university         hispanic / latin    63.0   \n",
       "9506  graduated from college/university                    white    65.0   \n",
       "9508  graduated from college/university                    asian    60.0   \n",
       "9513  graduated from college/university                    white    64.0   \n",
       "\n",
       "       income                          job       last_online  \\\n",
       "6        -1.0                          NaN  2012-06-25-20-45   \n",
       "7        -1.0  artistic / musical / writer  2012-06-29-12-30   \n",
       "8        -1.0                          NaN  2012-06-29-23-39   \n",
       "13    30000.0  sales / marketing / biz dev  2012-06-13-16-06   \n",
       "14    50000.0                        other  2012-06-29-08-55   \n",
       "...       ...                          ...               ...   \n",
       "9503     -1.0         law / legal services  2012-06-29-20-47   \n",
       "9505     -1.0  artistic / musical / writer  2012-06-29-09-20   \n",
       "9506     -1.0  artistic / musical / writer  2012-06-29-16-17   \n",
       "9508     -1.0               rather not say  2011-07-24-17-18   \n",
       "9513     -1.0               rather not say  2012-06-14-15-14   \n",
       "\n",
       "                           location                                offspring  \\\n",
       "6         san francisco, california                                      NaN   \n",
       "7         san francisco, california  doesn&rsquo;t have kids, but wants them   \n",
       "8     belvedere tiburon, california                  doesn&rsquo;t have kids   \n",
       "13        san francisco, california                                      NaN   \n",
       "14          san leandro, california  doesn&rsquo;t have kids, but wants them   \n",
       "...                             ...                                      ...   \n",
       "9503            alameda, california                                has a kid   \n",
       "9505      san francisco, california                  doesn&rsquo;t have kids   \n",
       "9506  belvedere tiburon, california                  doesn&rsquo;t have kids   \n",
       "9508      san francisco, california                                has a kid   \n",
       "9513      castro valley, california                                      NaN   \n",
       "\n",
       "     orientation                        pets  \\\n",
       "6       straight   likes dogs and likes cats   \n",
       "7       straight   likes dogs and likes cats   \n",
       "8       straight   likes dogs and likes cats   \n",
       "13      straight     has dogs and likes cats   \n",
       "14      straight     likes dogs and has cats   \n",
       "...          ...                         ...   \n",
       "9503    straight                    has dogs   \n",
       "9505    straight                    has dogs   \n",
       "9506    straight   likes dogs and likes cats   \n",
       "9508    straight  has dogs and dislikes cats   \n",
       "9513    straight   likes dogs and likes cats   \n",
       "\n",
       "                                       religion sex  \\\n",
       "6                                           NaN   f   \n",
       "7                                  christianity   f   \n",
       "8     christianity but not too serious about it   f   \n",
       "13    christianity but not too serious about it   f   \n",
       "14                                  catholicism   f   \n",
       "...                                         ...  ..   \n",
       "9503  christianity but not too serious about it   f   \n",
       "9505                                        NaN   f   \n",
       "9506        other and somewhat serious about it   f   \n",
       "9508   catholicism but not too serious about it   f   \n",
       "9513                                        NaN   f   \n",
       "\n",
       "                                          sign         smokes  \\\n",
       "6                                        virgo            NaN   \n",
       "7                                  sagittarius             no   \n",
       "8           gemini but it doesn&rsquo;t matter  when drinking   \n",
       "13                                         NaN             no   \n",
       "14                                      taurus             no   \n",
       "...                                        ...            ...   \n",
       "9503     leo and it&rsquo;s fun to think about             no   \n",
       "9505                                     virgo             no   \n",
       "9506     leo and it&rsquo;s fun to think about             no   \n",
       "9508                libra and it matters a lot             no   \n",
       "9513  pisces and it&rsquo;s fun to think about             no   \n",
       "\n",
       "                                    speaks  status  \n",
       "6                                  english  single  \n",
       "7                  english, spanish (okay)  single  \n",
       "8                                  english  single  \n",
       "13                                 english  single  \n",
       "14                                 english  single  \n",
       "...                                    ...     ...  \n",
       "9503                               english  single  \n",
       "9505    english (fluently), spanish (okay)  single  \n",
       "9506  english (fluently), spanish (poorly)  single  \n",
       "9508                    english (fluently)  single  \n",
       "9513                               english  single  \n",
       "\n",
       "[3839 rows x 21 columns]"
      ]
     },
     "execution_count": 11,
     "metadata": {},
     "output_type": "execute_result"
    }
   ],
   "source": [
    "df.loc[df[\"sex\"]==\"f\"]"
   ]
  },
  {
   "cell_type": "code",
   "execution_count": 12,
   "id": "af134690",
   "metadata": {
    "id": "af134690"
   },
   "outputs": [],
   "source": [
    "bodies={\"average\":\"fit\",\n",
    "              \"fit\":\"fit\",\n",
    "              \"athletic\":\"fit\",\n",
    "              \"thin\":\"fit\",\n",
    "              \"curvy\":\"curvy\",\n",
    "              \"a little extra\":\"curvy\",\n",
    "              \"skinny\":\"fit\",\n",
    "              \"full figured\":\"curvy\",\n",
    "              \"overweight\":\"bad\",\n",
    "              \"jacked\":\"bad\",\n",
    "              \"used up\":\"bad\",\n",
    "              \"rather not say\":\"curvy\"\n",
    "             }\n",
    "df.body_type.replace(bodies,inplace=True)"
   ]
  },
  {
   "cell_type": "code",
   "execution_count": 13,
   "id": "f6e7f36d",
   "metadata": {
    "colab": {
     "base_uri": "https://localhost:8080/",
     "height": 297
    },
    "id": "f6e7f36d",
    "outputId": "31769181-c210-4e5b-e078-aadf39e1ec71"
   },
   "outputs": [
    {
     "data": {
      "text/plain": [
       "<matplotlib.axes._subplots.AxesSubplot at 0x7f0ff1d20f90>"
      ]
     },
     "execution_count": 13,
     "metadata": {},
     "output_type": "execute_result"
    },
    {
     "data": {
      "image/png": "[encoded data removed]",
      "text/plain": [
       "<Figure size 432x288 with 1 Axes>"
      ]
     },
     "metadata": {
      "needs_background": "light"
     },
     "output_type": "display_data"
    }
   ],
   "source": [
    "sns.countplot(df[\"body_type\"])"
   ]
  },
  {
   "cell_type": "code",
   "execution_count": 14,
   "id": "384e5172",
   "metadata": {
    "colab": {
     "base_uri": "https://localhost:8080/"
    },
    "id": "384e5172",
    "outputId": "2b864288-5aa9-4ea7-fda1-aa08372d9ea7"
   },
   "outputs": [
    {
     "data": {
      "text/plain": [
       "array(['strictly anything', 'mostly other', 'anything', 'vegetarian', nan,\n",
       "       'mostly anything', 'mostly vegetarian', 'strictly vegan',\n",
       "       'strictly vegetarian', 'mostly vegan', 'strictly other',\n",
       "       'mostly halal', 'other', 'vegan', 'mostly kosher',\n",
       "       'strictly halal', 'halal', 'strictly kosher', 'kosher'],\n",
       "      dtype=object)"
      ]
     },
     "execution_count": 14,
     "metadata": {},
     "output_type": "execute_result"
    }
   ],
   "source": [
    "df[\"diet\"].unique()"
   ]
  },
  {
   "cell_type": "code",
   "execution_count": 15,
   "id": "7f98c1c3",
   "metadata": {
    "colab": {
     "base_uri": "https://localhost:8080/",
     "height": 296
    },
    "id": "7f98c1c3",
    "outputId": "cf917dd2-bdbe-405d-f8c2-7254c5600362"
   },
   "outputs": [
    {
     "data": {
      "text/plain": [
       "<matplotlib.axes._subplots.AxesSubplot at 0x7f0ff1bfb8d0>"
      ]
     },
     "execution_count": 15,
     "metadata": {},
     "output_type": "execute_result"
    },
    {
     "data": {
      "image/png": "[encoded data removed]",
      "text/plain": [
       "<Figure size 432x288 with 1 Axes>"
      ]
     },
     "metadata": {
      "needs_background": "light"
     },
     "output_type": "display_data"
    }
   ],
   "source": [
    "status={\"mostly\":\"\",\"strictly\":\"\"}\n",
    "df[\"diet\"].replace(status,regex=True,inplace=True)\n",
    "df[\"diet\"]=df[\"diet\"].str.strip()\n",
    "sns.countplot(df[\"diet\"])"
   ]
  },
  {
   "cell_type": "code",
   "execution_count": 16,
   "id": "34356727",
   "metadata": {
    "colab": {
     "base_uri": "https://localhost:8080/",
     "height": 300
    },
    "id": "34356727",
    "outputId": "20d5f09d-ddad-4048-95d0-49c6cdabbe79"
   },
   "outputs": [
    {
     "data": {
      "text/plain": [
       "<matplotlib.axes._subplots.AxesSubplot at 0x7f0ff1bf4450>"
      ]
     },
     "execution_count": 16,
     "metadata": {},
     "output_type": "execute_result"
    },
    {
     "data": {
      "image/png": "[encoded data removed]",
      "text/plain": [
       "<Figure size 432x288 with 1 Axes>"
      ]
     },
     "metadata": {
      "needs_background": "light"
     },
     "output_type": "display_data"
    }
   ],
   "source": [
    "sns.countplot(df.drinks)"
   ]
  },
  {
   "cell_type": "code",
   "execution_count": 17,
   "id": "472b3907",
   "metadata": {
    "colab": {
     "base_uri": "https://localhost:8080/",
     "height": 296
    },
    "id": "472b3907",
    "outputId": "1700980d-139c-494d-ee95-da1e8574bbe3"
   },
   "outputs": [
    {
     "data": {
      "text/plain": [
       "<matplotlib.axes._subplots.AxesSubplot at 0x7f0ff166c810>"
      ]
     },
     "execution_count": 17,
     "metadata": {},
     "output_type": "execute_result"
    },
    {
     "data": {
      "image/png": "[encoded data removed]",
      "text/plain": [
       "<Figure size 432x288 with 1 Axes>"
      ]
     },
     "metadata": {
      "needs_background": "light"
     },
     "output_type": "display_data"
    }
   ],
   "source": [
    "sns.countplot(df.drugs)"
   ]
  },
  {
   "cell_type": "code",
   "execution_count": 18,
   "id": "5e08676f",
   "metadata": {
    "colab": {
     "base_uri": "https://localhost:8080/"
    },
    "id": "5e08676f",
    "outputId": "33359c2e-1e9d-452c-d82e-e8abbf781c9c"
   },
   "outputs": [
    {
     "data": {
      "text/plain": [
       "array(['working on college/university', 'working on space camp',\n",
       "       'graduated from masters program',\n",
       "       'graduated from college/university', 'working on two-year college',\n",
       "       nan, 'graduated from high school', 'working on masters program',\n",
       "       'graduated from space camp', 'college/university',\n",
       "       'dropped out of space camp', 'graduated from ph.d program',\n",
       "       'graduated from law school', 'working on ph.d program',\n",
       "       'two-year college', 'graduated from two-year college',\n",
       "       'working on med school', 'dropped out of college/university',\n",
       "       'space camp', 'graduated from med school',\n",
       "       'dropped out of high school', 'working on high school',\n",
       "       'masters program', 'dropped out of ph.d program',\n",
       "       'dropped out of two-year college', 'dropped out of med school',\n",
       "       'high school', 'working on law school', 'law school',\n",
       "       'dropped out of masters program', 'ph.d program',\n",
       "       'dropped out of law school'], dtype=object)"
      ]
     },
     "execution_count": 18,
     "metadata": {},
     "output_type": "execute_result"
    }
   ],
   "source": [
    "df.education.unique()"
   ]
  },
  {
   "cell_type": "code",
   "execution_count": 19,
   "id": "a15c4ab4",
   "metadata": {
    "colab": {
     "base_uri": "https://localhost:8080/",
     "height": 296
    },
    "id": "a15c4ab4",
    "outputId": "1aff5173-97ec-43d8-c27b-83c4ce1d0702"
   },
   "outputs": [
    {
     "data": {
      "text/plain": [
       "<matplotlib.axes._subplots.AxesSubplot at 0x7f0ff1316690>"
      ]
     },
     "execution_count": 19,
     "metadata": {},
     "output_type": "execute_result"
    },
    {
     "data": {
      "image/png": "[encoded data removed]",
      "text/plain": [
       "<Figure size 432x288 with 1 Axes>"
      ]
     },
     "metadata": {
      "needs_background": "light"
     },
     "output_type": "display_data"
    }
   ],
   "source": [
    "df[\"education\"].replace({\"working on\":\"student\",\"graduated from\":\"graduated\",\"dropped out\":\"dropped\"},regex=True)\n",
    "df[\"education\"]=df[\"education\"].str.split().str[0]\n",
    "df[\"education\"].replace({\"college/university\":\"student\",\"two-year\":\"student\",\"masters\":\"student\",\"working\":\"student\",\"space\":\"student\",\"ph.d\":\"graduated\",\"law\":\"graduated\",\"high\":\"graduated\"},regex=True,inplace=True)\n",
    "sns.countplot(df.education)"
   ]
  },
  {
   "cell_type": "code",
   "execution_count": 20,
   "id": "7950db48",
   "metadata": {
    "id": "7950db48"
   },
   "outputs": [],
   "source": [
    "df.drop([\"ethnicity\",\"job\"],axis=1,inplace=True)"
   ]
  },
  {
   "cell_type": "code",
   "execution_count": 21,
   "id": "24897cb6",
   "metadata": {
    "colab": {
     "base_uri": "https://localhost:8080/",
     "height": 296
    },
    "id": "24897cb6",
    "outputId": "94eecd36-ee27-454e-ada6-3cdceaee10b5"
   },
   "outputs": [
    {
     "data": {
      "text/plain": [
       "<matplotlib.axes._subplots.AxesSubplot at 0x7f0ff12ef650>"
      ]
     },
     "execution_count": 21,
     "metadata": {},
     "output_type": "execute_result"
    },
    {
     "data": {
      "image/png": "[encoded data removed]",
      "text/plain": [
       "<Figure size 432x288 with 1 Axes>"
      ]
     },
     "metadata": {
      "needs_background": "light"
     },
     "output_type": "display_data"
    }
   ],
   "source": [
    "sns.boxplot(\"height\",data=df)"
   ]
  },
  {
   "cell_type": "code",
   "execution_count": 22,
   "id": "77329685",
   "metadata": {
    "colab": {
     "base_uri": "https://localhost:8080/",
     "height": 296
    },
    "id": "77329685",
    "outputId": "fa5537ba-eb2d-49d8-dbe9-34825de95e97"
   },
   "outputs": [
    {
     "data": {
      "text/plain": [
       "<matplotlib.axes._subplots.AxesSubplot at 0x7f0ff134d2d0>"
      ]
     },
     "execution_count": 22,
     "metadata": {},
     "output_type": "execute_result"
    },
    {
     "data": {
      "image/png": "[encoded data removed]",
      "text/plain": [
       "<Figure size 432x288 with 1 Axes>"
      ]
     },
     "metadata": {
      "needs_background": "light"
     },
     "output_type": "display_data"
    }
   ],
   "source": [
    "sns.boxplot(\"income\",data=df)"
   ]
  },
  {
   "cell_type": "code",
   "execution_count": 23,
   "id": "3e9c2946",
   "metadata": {
    "colab": {
     "base_uri": "https://localhost:8080/",
     "height": 438
    },
    "id": "3e9c2946",
    "outputId": "44e8054d-4343-455e-fbba-5ec51ce0d1ee",
    "scrolled": false
   },
   "outputs": [
    {
     "data": {
      "text/plain": [
       "<matplotlib.axes._subplots.AxesSubplot at 0x7f0ff1396a90>"
      ]
     },
     "execution_count": 23,
     "metadata": {},
     "output_type": "execute_result"
    },
    {
     "data": {
      "image/png": "[encoded data removed]",
      "text/plain": [
       "<Figure size 1080x360 with 1 Axes>"
      ]
     },
     "metadata": {
      "needs_background": "light"
     },
     "output_type": "display_data"
    }
   ],
   "source": [
    "df.location=df.location.str.split(\",\").str[0]\n",
    "plt.figure(figsize=(15,5))\n",
    "plt.xticks(rotation=90)\n",
    "sns.countplot(df.location)"
   ]
  },
  {
   "cell_type": "code",
   "execution_count": 24,
   "id": "b62e6fdc",
   "metadata": {
    "colab": {
     "base_uri": "https://localhost:8080/",
     "height": 296
    },
    "id": "b62e6fdc",
    "outputId": "d44bf539-16e7-4877-f936-68b8db02c9c1"
   },
   "outputs": [
    {
     "data": {
      "text/plain": [
       "<matplotlib.axes._subplots.AxesSubplot at 0x7f0ff158b750>"
      ]
     },
     "execution_count": 24,
     "metadata": {},
     "output_type": "execute_result"
    },
    {
     "data": {
      "image/png": "[encoded data removed]",
      "text/plain": [
       "<Figure size 432x288 with 1 Axes>"
      ]
     },
     "metadata": {
      "needs_background": "light"
     },
     "output_type": "display_data"
    }
   ],
   "source": [
    "offsprings=[]\n",
    "for i in df.offspring.fillna(\"bilinmiyor\").str.replace(\"[^\\w\\s]\",\"\"):\n",
    "    if \"doesnrsquot\" in i:\n",
    "        offsprings.append(\"0\")\n",
    "    elif \"bilinmiyor\" in i:\n",
    "        offsprings.append(\"0\")\n",
    "    else:\n",
    "        offsprings.append(\"1\")\n",
    "        \n",
    "df[\"offspring\"]=offsprings\n",
    "df[\"offspring\"]=df[\"offspring\"].astype(int)\n",
    "sns.countplot(df.offspring)"
   ]
  },
  {
   "cell_type": "code",
   "execution_count": 25,
   "id": "42756756",
   "metadata": {
    "colab": {
     "base_uri": "https://localhost:8080/",
     "height": 296
    },
    "id": "42756756",
    "outputId": "094413f1-69f4-455a-a117-9f5c282ea720"
   },
   "outputs": [
    {
     "data": {
      "text/plain": [
       "<matplotlib.axes._subplots.AxesSubplot at 0x7f0ff157aed0>"
      ]
     },
     "execution_count": 25,
     "metadata": {},
     "output_type": "execute_result"
    },
    {
     "data": {
      "image/png": "[encoded data removed]",
      "text/plain": [
       "<Figure size 432x288 with 1 Axes>"
      ]
     },
     "metadata": {
      "needs_background": "light"
     },
     "output_type": "display_data"
    }
   ],
   "source": [
    "sns.countplot(df.orientation)"
   ]
  },
  {
   "cell_type": "code",
   "execution_count": 26,
   "id": "b158bdf5",
   "metadata": {
    "id": "b158bdf5"
   },
   "outputs": [],
   "source": [
    "df.drop([\"pets\"],axis=1,inplace=True)"
   ]
  },
  {
   "cell_type": "code",
   "execution_count": 27,
   "id": "8311003b",
   "metadata": {
    "colab": {
     "base_uri": "https://localhost:8080/",
     "height": 346
    },
    "id": "8311003b",
    "outputId": "c4abbd1a-ed6e-4c2a-a32e-76ab5e8a9c27"
   },
   "outputs": [
    {
     "data": {
      "text/plain": [
       "<matplotlib.axes._subplots.AxesSubplot at 0x7f0ff0e86ed0>"
      ]
     },
     "execution_count": 27,
     "metadata": {},
     "output_type": "execute_result"
    },
    {
     "data": {
      "image/png": "[encoded data removed]",
      "text/plain": [
       "<Figure size 432x288 with 1 Axes>"
      ]
     },
     "metadata": {
      "needs_background": "light"
     },
     "output_type": "display_data"
    }
   ],
   "source": [
    "df[\"religion\"]=df[\"religion\"].str.split().str[0]\n",
    "plt.xticks(rotation=90)\n",
    "sns.countplot(df.religion)"
   ]
  },
  {
   "cell_type": "code",
   "execution_count": 28,
   "id": "16ead205",
   "metadata": {
    "colab": {
     "base_uri": "https://localhost:8080/",
     "height": 296
    },
    "id": "16ead205",
    "outputId": "cc5b3659-7731-4281-de82-7962f4b46acd"
   },
   "outputs": [
    {
     "data": {
      "text/plain": [
       "<matplotlib.axes._subplots.AxesSubplot at 0x7f0ff0e73550>"
      ]
     },
     "execution_count": 28,
     "metadata": {},
     "output_type": "execute_result"
    },
    {
     "data": {
      "image/png": "[encoded data removed]",
      "text/plain": [
       "<Figure size 432x288 with 1 Axes>"
      ]
     },
     "metadata": {
      "needs_background": "light"
     },
     "output_type": "display_data"
    }
   ],
   "source": [
    "sns.countplot(df.sex)"
   ]
  },
  {
   "cell_type": "code",
   "execution_count": 29,
   "id": "887a66b3",
   "metadata": {
    "colab": {
     "base_uri": "https://localhost:8080/",
     "height": 339
    },
    "id": "887a66b3",
    "outputId": "97c875f0-cc04-4a6f-fdbf-f1451216e0d8"
   },
   "outputs": [
    {
     "data": {
      "text/plain": [
       "<matplotlib.axes._subplots.AxesSubplot at 0x7f0ff0c7c410>"
      ]
     },
     "execution_count": 29,
     "metadata": {},
     "output_type": "execute_result"
    },
    {
     "data": {
      "image/png": "[encoded data removed]",
      "text/plain": [
       "<Figure size 432x288 with 1 Axes>"
      ]
     },
     "metadata": {
      "needs_background": "light"
     },
     "output_type": "display_data"
    }
   ],
   "source": [
    "df[\"sign\"]=df[\"sign\"].str.split().str[0]\n",
    "plt.xticks(rotation=90)\n",
    "sns.countplot(df.sign)"
   ]
  },
  {
   "cell_type": "code",
   "execution_count": 30,
   "id": "2d4ba8c7",
   "metadata": {
    "colab": {
     "base_uri": "https://localhost:8080/",
     "height": 296
    },
    "id": "2d4ba8c7",
    "outputId": "c7066db2-55cc-4a5b-c6c2-8490e8af0892"
   },
   "outputs": [
    {
     "data": {
      "text/plain": [
       "<matplotlib.axes._subplots.AxesSubplot at 0x7f0ff0e80f90>"
      ]
     },
     "execution_count": 30,
     "metadata": {},
     "output_type": "execute_result"
    },
    {
     "data": {
      "image/png": "[encoded data removed]",
      "text/plain": [
       "<Figure size 432x288 with 1 Axes>"
      ]
     },
     "metadata": {
      "needs_background": "light"
     },
     "output_type": "display_data"
    }
   ],
   "source": [
    "sns.countplot(df.smokes)"
   ]
  },
  {
   "cell_type": "code",
   "execution_count": 31,
   "id": "f06b8ed1",
   "metadata": {
    "colab": {
     "base_uri": "https://localhost:8080/",
     "height": 296
    },
    "id": "f06b8ed1",
    "outputId": "042e4d07-6ec1-4a0b-e463-79b278e67173"
   },
   "outputs": [
    {
     "data": {
      "text/plain": [
       "<matplotlib.axes._subplots.AxesSubplot at 0x7f0ff0cc0a10>"
      ]
     },
     "execution_count": 31,
     "metadata": {},
     "output_type": "execute_result"
    },
    {
     "data": {
      "image/png": "[encoded data removed]",
      "text/plain": [
       "<Figure size 432x288 with 1 Axes>"
      ]
     },
     "metadata": {
      "needs_background": "light"
     },
     "output_type": "display_data"
    }
   ],
   "source": [
    "smokes=[]\n",
    "for i in df.smokes.fillna(\"bilinmiyor\").str.replace(\"[^\\w\\s]\",\"\"):\n",
    "    if \"no\" in i:\n",
    "        smokes.append(\"0\")\n",
    "    elif \"bilinmiyor\" in i:\n",
    "        smokes.append(\"0\")\n",
    "    else:\n",
    "        smokes.append(\"1\")\n",
    "        \n",
    "df[\"smokes\"]=smokes\n",
    "df[\"smokes\"]=df[\"smokes\"].astype(int)\n",
    "sns.countplot(df.smokes)"
   ]
  },
  {
   "cell_type": "code",
   "execution_count": 32,
   "id": "77d68a94",
   "metadata": {
    "id": "77d68a94"
   },
   "outputs": [],
   "source": [
    "df[\"number_of_fluent_languages\"]=df.speaks.str.count(\"fluently\")\n",
    "df[\"number_of_fluent_languages\"].replace(0,1,regex=True,inplace=True)\n",
    "df[\"number_of_poorly_languages\"]=df.speaks.str.count(\"poorly\")\n",
    "df.drop(\"speaks\",axis=1,inplace=True)"
   ]
  },
  {
   "cell_type": "code",
   "execution_count": 33,
   "id": "5d796a80",
   "metadata": {
    "colab": {
     "base_uri": "https://localhost:8080/",
     "height": 297
    },
    "id": "5d796a80",
    "outputId": "fe48af66-2599-45c5-d968-6b2d0ee30235"
   },
   "outputs": [
    {
     "data": {
      "text/plain": [
       "<matplotlib.axes._subplots.AxesSubplot at 0x7f0ff0ca6110>"
      ]
     },
     "execution_count": 33,
     "metadata": {},
     "output_type": "execute_result"
    },
    {
     "data": {
      "image/png": "[encoded data removed]",
      "text/plain": [
       "<Figure size 432x288 with 1 Axes>"
      ]
     },
     "metadata": {
      "needs_background": "light"
     },
     "output_type": "display_data"
    }
   ],
   "source": [
    "sns.countplot(df[\"number_of_fluent_languages\"])"
   ]
  },
  {
   "cell_type": "code",
   "execution_count": 34,
   "id": "482ee8fa",
   "metadata": {
    "colab": {
     "base_uri": "https://localhost:8080/",
     "height": 297
    },
    "id": "482ee8fa",
    "outputId": "e45e0a4b-9719-48a0-eb71-cb8067e32b6a"
   },
   "outputs": [
    {
     "data": {
      "text/plain": [
       "<matplotlib.axes._subplots.AxesSubplot at 0x7f0ff0d09690>"
      ]
     },
     "execution_count": 34,
     "metadata": {},
     "output_type": "execute_result"
    },
    {
     "data": {
      "image/png": "[encoded data removed]",
      "text/plain": [
       "<Figure size 432x288 with 1 Axes>"
      ]
     },
     "metadata": {
      "needs_background": "light"
     },
     "output_type": "display_data"
    }
   ],
   "source": [
    "sns.countplot(df[\"number_of_poorly_languages\"])"
   ]
  },
  {
   "cell_type": "code",
   "execution_count": 35,
   "id": "d8dcb45e",
   "metadata": {
    "colab": {
     "base_uri": "https://localhost:8080/",
     "height": 296
    },
    "id": "d8dcb45e",
    "outputId": "8c9edb59-c3fd-4474-800b-719ae323134a"
   },
   "outputs": [
    {
     "data": {
      "text/plain": [
       "<matplotlib.axes._subplots.AxesSubplot at 0x7f0ff0cee450>"
      ]
     },
     "execution_count": 35,
     "metadata": {},
     "output_type": "execute_result"
    },
    {
     "data": {
      "image/png": "[encoded data removed]",
      "text/plain": [
       "<Figure size 432x288 with 1 Axes>"
      ]
     },
     "metadata": {
      "needs_background": "light"
     },
     "output_type": "display_data"
    }
   ],
   "source": [
    "sns.countplot(df.status)"
   ]
  },
  {
   "cell_type": "code",
   "execution_count": 36,
   "id": "f435018c",
   "metadata": {
    "id": "f435018c"
   },
   "outputs": [],
   "source": [
    "for column in df.select_dtypes(include=np.number):\n",
    "    df[column].fillna(df[column].median(),inplace=True)"
   ]
  },
  {
   "cell_type": "code",
   "execution_count": 37,
   "id": "d250c4fe",
   "metadata": {
    "id": "d250c4fe"
   },
   "outputs": [],
   "source": [
    "for column in df.select_dtypes(include=np.object):\n",
    "    df[column].fillna(df[column].mode()[0],inplace=True)"
   ]
  },
  {
   "cell_type": "code",
   "execution_count": 38,
   "id": "b533901a",
   "metadata": {
    "colab": {
     "base_uri": "https://localhost:8080/"
    },
    "id": "b533901a",
    "outputId": "9472bcac-c7dd-41fa-d3f9-b24a26ea803c"
   },
   "outputs": [
    {
     "data": {
      "text/plain": [
       "age                           0\n",
       "body_type                     0\n",
       "diet                          0\n",
       "drinks                        0\n",
       "drugs                         0\n",
       "education                     0\n",
       "height                        0\n",
       "income                        0\n",
       "last_online                   0\n",
       "location                      0\n",
       "offspring                     0\n",
       "orientation                   0\n",
       "religion                      0\n",
       "sex                           0\n",
       "sign                          0\n",
       "smokes                        0\n",
       "status                        0\n",
       "number_of_fluent_languages    0\n",
       "number_of_poorly_languages    0\n",
       "dtype: int64"
      ]
     },
     "execution_count": 38,
     "metadata": {},
     "output_type": "execute_result"
    }
   ],
   "source": [
    "df.isnull().sum()"
   ]
  },
  {
   "cell_type": "code",
   "execution_count": 39,
   "id": "62435d92",
   "metadata": {
    "id": "62435d92"
   },
   "outputs": [],
   "source": [
    "generations=[]\n",
    "for i in df[\"age\"].values:\n",
    "    if (i>=18) and (i<=32):\n",
    "        generations.append(\"Millennial\")\n",
    "    elif (i>=33) and (i<=47):\n",
    "        generations.append(\"Gen X-er\")\n",
    "    elif (48>=33) and (i<=70):\n",
    "        generations.append(\"Boomers\")\n",
    "    else:\n",
    "        generations.append(\"Unkown\")\n",
    "\n",
    "df[\"generations\"]=generations"
   ]
  },
  {
   "cell_type": "code",
   "execution_count": 40,
   "id": "75a08ff3",
   "metadata": {
    "colab": {
     "base_uri": "https://localhost:8080/",
     "height": 320
    },
    "id": "75a08ff3",
    "outputId": "6d59ac64-7367-4d16-af38-33581e149d22"
   },
   "outputs": [
    {
     "data": {
      "text/plain": [
       "<matplotlib.axes._subplots.AxesSubplot at 0x7f0ff0d56c10>"
      ]
     },
     "execution_count": 40,
     "metadata": {},
     "output_type": "execute_result"
    },
    {
     "data": {
      "image/png": "[encoded data removed]",
      "text/plain": [
       "<Figure size 432x288 with 1 Axes>"
      ]
     },
     "metadata": {
      "needs_background": "light"
     },
     "output_type": "display_data"
    }
   ],
   "source": [
    "df[\"generations\"].replace(\"Unkown\",\"Boomers\",regex=True,inplace=True)\n",
    "df[\"generations\"].value_counts().plot.bar()"
   ]
  },
  {
   "cell_type": "code",
   "execution_count": 41,
   "id": "21cf0e7b",
   "metadata": {
    "colab": {
     "base_uri": "https://localhost:8080/",
     "height": 204
    },
    "id": "21cf0e7b",
    "outputId": "2dc37d3d-b37a-43dc-a19d-773e7848056c"
   },
   "outputs": [
    {
     "data": {
      "text/html": [
       "<div>\n",
       "<style scoped>\n",
       "    .dataframe tbody tr th:only-of-type {\n",
       "        vertical-align: middle;\n",
       "    }\n",
       "\n",
       "    .dataframe tbody tr th {\n",
       "        vertical-align: top;\n",
       "    }\n",
       "\n",
       "    .dataframe thead th {\n",
       "        text-align: right;\n",
       "    }\n",
       "</style>\n",
       "<table border=\"1\" class=\"dataframe\">\n",
       "  <thead>\n",
       "    <tr style=\"text-align: right;\">\n",
       "      <th></th>\n",
       "      <th>age</th>\n",
       "      <th>body_type</th>\n",
       "      <th>diet</th>\n",
       "      <th>drinks</th>\n",
       "      <th>drugs</th>\n",
       "      <th>education</th>\n",
       "      <th>height</th>\n",
       "      <th>income</th>\n",
       "      <th>last_online</th>\n",
       "      <th>location</th>\n",
       "      <th>offspring</th>\n",
       "      <th>orientation</th>\n",
       "      <th>religion</th>\n",
       "      <th>sex</th>\n",
       "      <th>sign</th>\n",
       "      <th>smokes</th>\n",
       "      <th>status</th>\n",
       "      <th>number_of_fluent_languages</th>\n",
       "      <th>number_of_poorly_languages</th>\n",
       "      <th>generations</th>\n",
       "    </tr>\n",
       "  </thead>\n",
       "  <tbody>\n",
       "    <tr>\n",
       "      <th>5495</th>\n",
       "      <td>24.0</td>\n",
       "      <td>fit</td>\n",
       "      <td>anything</td>\n",
       "      <td>socially</td>\n",
       "      <td>never</td>\n",
       "      <td>graduated</td>\n",
       "      <td>66.0</td>\n",
       "      <td>-1.0</td>\n",
       "      <td>2012-06-30-01-23</td>\n",
       "      <td>san francisco</td>\n",
       "      <td>0</td>\n",
       "      <td>straight</td>\n",
       "      <td>christianity</td>\n",
       "      <td>m</td>\n",
       "      <td>libra</td>\n",
       "      <td>0</td>\n",
       "      <td>single</td>\n",
       "      <td>1.0</td>\n",
       "      <td>1.0</td>\n",
       "      <td>Millennial</td>\n",
       "    </tr>\n",
       "    <tr>\n",
       "      <th>4476</th>\n",
       "      <td>24.0</td>\n",
       "      <td>fit</td>\n",
       "      <td>anything</td>\n",
       "      <td>socially</td>\n",
       "      <td>never</td>\n",
       "      <td>graduated</td>\n",
       "      <td>65.0</td>\n",
       "      <td>-1.0</td>\n",
       "      <td>2012-06-29-23-29</td>\n",
       "      <td>san francisco</td>\n",
       "      <td>0</td>\n",
       "      <td>straight</td>\n",
       "      <td>agnosticism</td>\n",
       "      <td>f</td>\n",
       "      <td>leo</td>\n",
       "      <td>0</td>\n",
       "      <td>single</td>\n",
       "      <td>1.0</td>\n",
       "      <td>0.0</td>\n",
       "      <td>Millennial</td>\n",
       "    </tr>\n",
       "    <tr>\n",
       "      <th>3876</th>\n",
       "      <td>32.0</td>\n",
       "      <td>fit</td>\n",
       "      <td>anything</td>\n",
       "      <td>socially</td>\n",
       "      <td>never</td>\n",
       "      <td>graduated</td>\n",
       "      <td>69.0</td>\n",
       "      <td>-1.0</td>\n",
       "      <td>2012-06-27-18-34</td>\n",
       "      <td>oakland</td>\n",
       "      <td>0</td>\n",
       "      <td>straight</td>\n",
       "      <td>agnosticism</td>\n",
       "      <td>m</td>\n",
       "      <td>leo</td>\n",
       "      <td>0</td>\n",
       "      <td>single</td>\n",
       "      <td>1.0</td>\n",
       "      <td>0.0</td>\n",
       "      <td>Millennial</td>\n",
       "    </tr>\n",
       "    <tr>\n",
       "      <th>5376</th>\n",
       "      <td>25.0</td>\n",
       "      <td>fit</td>\n",
       "      <td>anything</td>\n",
       "      <td>socially</td>\n",
       "      <td>never</td>\n",
       "      <td>graduated</td>\n",
       "      <td>67.0</td>\n",
       "      <td>-1.0</td>\n",
       "      <td>2012-06-03-01-38</td>\n",
       "      <td>san francisco</td>\n",
       "      <td>0</td>\n",
       "      <td>straight</td>\n",
       "      <td>atheism</td>\n",
       "      <td>m</td>\n",
       "      <td>leo</td>\n",
       "      <td>0</td>\n",
       "      <td>single</td>\n",
       "      <td>1.0</td>\n",
       "      <td>0.0</td>\n",
       "      <td>Millennial</td>\n",
       "    </tr>\n",
       "    <tr>\n",
       "      <th>2832</th>\n",
       "      <td>22.0</td>\n",
       "      <td>fit</td>\n",
       "      <td>anything</td>\n",
       "      <td>socially</td>\n",
       "      <td>never</td>\n",
       "      <td>graduated</td>\n",
       "      <td>66.0</td>\n",
       "      <td>70000.0</td>\n",
       "      <td>2012-06-30-00-29</td>\n",
       "      <td>san francisco</td>\n",
       "      <td>0</td>\n",
       "      <td>straight</td>\n",
       "      <td>agnosticism</td>\n",
       "      <td>m</td>\n",
       "      <td>libra</td>\n",
       "      <td>0</td>\n",
       "      <td>single</td>\n",
       "      <td>3.0</td>\n",
       "      <td>1.0</td>\n",
       "      <td>Millennial</td>\n",
       "    </tr>\n",
       "  </tbody>\n",
       "</table>\n",
       "</div>"
      ],
      "text/plain": [
       "       age body_type      diet    drinks  drugs  education  height   income  \\\n",
       "5495  24.0       fit  anything  socially  never  graduated    66.0     -1.0   \n",
       "4476  24.0       fit  anything  socially  never  graduated    65.0     -1.0   \n",
       "3876  32.0       fit  anything  socially  never  graduated    69.0     -1.0   \n",
       "5376  25.0       fit  anything  socially  never  graduated    67.0     -1.0   \n",
       "2832  22.0       fit  anything  socially  never  graduated    66.0  70000.0   \n",
       "\n",
       "           last_online       location  offspring orientation      religion  \\\n",
       "5495  2012-06-30-01-23  san francisco          0    straight  christianity   \n",
       "4476  2012-06-29-23-29  san francisco          0    straight   agnosticism   \n",
       "3876  2012-06-27-18-34        oakland          0    straight   agnosticism   \n",
       "5376  2012-06-03-01-38  san francisco          0    straight       atheism   \n",
       "2832  2012-06-30-00-29  san francisco          0    straight   agnosticism   \n",
       "\n",
       "     sex   sign  smokes  status  number_of_fluent_languages  \\\n",
       "5495   m  libra       0  single                         1.0   \n",
       "4476   f    leo       0  single                         1.0   \n",
       "3876   m    leo       0  single                         1.0   \n",
       "5376   m    leo       0  single                         1.0   \n",
       "2832   m  libra       0  single                         3.0   \n",
       "\n",
       "      number_of_poorly_languages generations  \n",
       "5495                         1.0  Millennial  \n",
       "4476                         0.0  Millennial  \n",
       "3876                         0.0  Millennial  \n",
       "5376                         0.0  Millennial  \n",
       "2832                         1.0  Millennial  "
      ]
     },
     "execution_count": 41,
     "metadata": {},
     "output_type": "execute_result"
    }
   ],
   "source": [
    "df.sample(5)"
   ]
  },
  {
   "cell_type": "code",
   "execution_count": 42,
   "id": "0f0b5c09",
   "metadata": {
    "colab": {
     "base_uri": "https://localhost:8080/",
     "height": 266
    },
    "id": "0f0b5c09",
    "outputId": "cfbaaced-bc91-4123-845b-4b9610263f09",
    "scrolled": true
   },
   "outputs": [
    {
     "data": {
      "text/html": [
       "<div>\n",
       "<style scoped>\n",
       "    .dataframe tbody tr th:only-of-type {\n",
       "        vertical-align: middle;\n",
       "    }\n",
       "\n",
       "    .dataframe tbody tr th {\n",
       "        vertical-align: top;\n",
       "    }\n",
       "\n",
       "    .dataframe thead th {\n",
       "        text-align: right;\n",
       "    }\n",
       "</style>\n",
       "<table border=\"1\" class=\"dataframe\">\n",
       "  <thead>\n",
       "    <tr style=\"text-align: right;\">\n",
       "      <th></th>\n",
       "      <th>age</th>\n",
       "      <th>height</th>\n",
       "      <th>income</th>\n",
       "      <th>offspring</th>\n",
       "      <th>smokes</th>\n",
       "      <th>number_of_fluent_languages</th>\n",
       "      <th>number_of_poorly_languages</th>\n",
       "    </tr>\n",
       "  </thead>\n",
       "  <tbody>\n",
       "    <tr>\n",
       "      <th>age</th>\n",
       "      <td>1.000000</td>\n",
       "      <td>-0.022078</td>\n",
       "      <td>0.011424</td>\n",
       "      <td>0.341753</td>\n",
       "      <td>-0.147282</td>\n",
       "      <td>-0.024795</td>\n",
       "      <td>-0.001559</td>\n",
       "    </tr>\n",
       "    <tr>\n",
       "      <th>height</th>\n",
       "      <td>-0.022078</td>\n",
       "      <td>1.000000</td>\n",
       "      <td>0.073105</td>\n",
       "      <td>-0.033389</td>\n",
       "      <td>0.035629</td>\n",
       "      <td>0.015458</td>\n",
       "      <td>0.036414</td>\n",
       "    </tr>\n",
       "    <tr>\n",
       "      <th>income</th>\n",
       "      <td>0.011424</td>\n",
       "      <td>0.073105</td>\n",
       "      <td>1.000000</td>\n",
       "      <td>0.015045</td>\n",
       "      <td>0.039872</td>\n",
       "      <td>0.039186</td>\n",
       "      <td>0.028577</td>\n",
       "    </tr>\n",
       "    <tr>\n",
       "      <th>offspring</th>\n",
       "      <td>0.341753</td>\n",
       "      <td>-0.033389</td>\n",
       "      <td>0.015045</td>\n",
       "      <td>1.000000</td>\n",
       "      <td>-0.007899</td>\n",
       "      <td>0.000841</td>\n",
       "      <td>-0.012303</td>\n",
       "    </tr>\n",
       "    <tr>\n",
       "      <th>smokes</th>\n",
       "      <td>-0.147282</td>\n",
       "      <td>0.035629</td>\n",
       "      <td>0.039872</td>\n",
       "      <td>-0.007899</td>\n",
       "      <td>1.000000</td>\n",
       "      <td>0.010306</td>\n",
       "      <td>-0.013220</td>\n",
       "    </tr>\n",
       "    <tr>\n",
       "      <th>number_of_fluent_languages</th>\n",
       "      <td>-0.024795</td>\n",
       "      <td>0.015458</td>\n",
       "      <td>0.039186</td>\n",
       "      <td>0.000841</td>\n",
       "      <td>0.010306</td>\n",
       "      <td>1.000000</td>\n",
       "      <td>0.067774</td>\n",
       "    </tr>\n",
       "    <tr>\n",
       "      <th>number_of_poorly_languages</th>\n",
       "      <td>-0.001559</td>\n",
       "      <td>0.036414</td>\n",
       "      <td>0.028577</td>\n",
       "      <td>-0.012303</td>\n",
       "      <td>-0.013220</td>\n",
       "      <td>0.067774</td>\n",
       "      <td>1.000000</td>\n",
       "    </tr>\n",
       "  </tbody>\n",
       "</table>\n",
       "</div>"
      ],
      "text/plain": [
       "                                 age    height    income  offspring    smokes  \\\n",
       "age                         1.000000 -0.022078  0.011424   0.341753 -0.147282   \n",
       "height                     -0.022078  1.000000  0.073105  -0.033389  0.035629   \n",
       "income                      0.011424  0.073105  1.000000   0.015045  0.039872   \n",
       "offspring                   0.341753 -0.033389  0.015045   1.000000 -0.007899   \n",
       "smokes                     -0.147282  0.035629  0.039872  -0.007899  1.000000   \n",
       "number_of_fluent_languages -0.024795  0.015458  0.039186   0.000841  0.010306   \n",
       "number_of_poorly_languages -0.001559  0.036414  0.028577  -0.012303 -0.013220   \n",
       "\n",
       "                            number_of_fluent_languages  \\\n",
       "age                                          -0.024795   \n",
       "height                                        0.015458   \n",
       "income                                        0.039186   \n",
       "offspring                                     0.000841   \n",
       "smokes                                        0.010306   \n",
       "number_of_fluent_languages                    1.000000   \n",
       "number_of_poorly_languages                    0.067774   \n",
       "\n",
       "                            number_of_poorly_languages  \n",
       "age                                          -0.001559  \n",
       "height                                        0.036414  \n",
       "income                                        0.028577  \n",
       "offspring                                    -0.012303  \n",
       "smokes                                       -0.013220  \n",
       "number_of_fluent_languages                    0.067774  \n",
       "number_of_poorly_languages                    1.000000  "
      ]
     },
     "execution_count": 42,
     "metadata": {},
     "output_type": "execute_result"
    }
   ],
   "source": [
    "df.corr()"
   ]
  },
  {
   "cell_type": "code",
   "execution_count": 43,
   "id": "ad971fa0",
   "metadata": {
    "colab": {
     "base_uri": "https://localhost:8080/",
     "height": 297
    },
    "id": "ad971fa0",
    "outputId": "03ffa5e9-798a-43f8-fc58-7240aad0e72f"
   },
   "outputs": [
    {
     "data": {
      "text/html": [
       "<div>\n",
       "<style scoped>\n",
       "    .dataframe tbody tr th:only-of-type {\n",
       "        vertical-align: middle;\n",
       "    }\n",
       "\n",
       "    .dataframe tbody tr th {\n",
       "        vertical-align: top;\n",
       "    }\n",
       "\n",
       "    .dataframe thead th {\n",
       "        text-align: right;\n",
       "    }\n",
       "</style>\n",
       "<table border=\"1\" class=\"dataframe\">\n",
       "  <thead>\n",
       "    <tr style=\"text-align: right;\">\n",
       "      <th></th>\n",
       "      <th>age</th>\n",
       "      <th>height</th>\n",
       "      <th>income</th>\n",
       "      <th>offspring</th>\n",
       "      <th>smokes</th>\n",
       "      <th>number_of_fluent_languages</th>\n",
       "      <th>number_of_poorly_languages</th>\n",
       "    </tr>\n",
       "  </thead>\n",
       "  <tbody>\n",
       "    <tr>\n",
       "      <th>count</th>\n",
       "      <td>9514.000000</td>\n",
       "      <td>9514.000000</td>\n",
       "      <td>9514.000000</td>\n",
       "      <td>9514.000000</td>\n",
       "      <td>9514.000000</td>\n",
       "      <td>9514.000000</td>\n",
       "      <td>9514.000000</td>\n",
       "    </tr>\n",
       "    <tr>\n",
       "      <th>mean</th>\n",
       "      <td>32.084192</td>\n",
       "      <td>68.337398</td>\n",
       "      <td>18887.145155</td>\n",
       "      <td>0.076624</td>\n",
       "      <td>0.166597</td>\n",
       "      <td>1.146941</td>\n",
       "      <td>0.338974</td>\n",
       "    </tr>\n",
       "    <tr>\n",
       "      <th>std</th>\n",
       "      <td>9.445488</td>\n",
       "      <td>3.905229</td>\n",
       "      <td>91428.807808</td>\n",
       "      <td>0.266008</td>\n",
       "      <td>0.372635</td>\n",
       "      <td>0.413248</td>\n",
       "      <td>0.645990</td>\n",
       "    </tr>\n",
       "    <tr>\n",
       "      <th>min</th>\n",
       "      <td>18.000000</td>\n",
       "      <td>36.000000</td>\n",
       "      <td>-1.000000</td>\n",
       "      <td>0.000000</td>\n",
       "      <td>0.000000</td>\n",
       "      <td>1.000000</td>\n",
       "      <td>0.000000</td>\n",
       "    </tr>\n",
       "    <tr>\n",
       "      <th>25%</th>\n",
       "      <td>25.000000</td>\n",
       "      <td>66.000000</td>\n",
       "      <td>-1.000000</td>\n",
       "      <td>0.000000</td>\n",
       "      <td>0.000000</td>\n",
       "      <td>1.000000</td>\n",
       "      <td>0.000000</td>\n",
       "    </tr>\n",
       "    <tr>\n",
       "      <th>50%</th>\n",
       "      <td>30.000000</td>\n",
       "      <td>68.000000</td>\n",
       "      <td>-1.000000</td>\n",
       "      <td>0.000000</td>\n",
       "      <td>0.000000</td>\n",
       "      <td>1.000000</td>\n",
       "      <td>0.000000</td>\n",
       "    </tr>\n",
       "    <tr>\n",
       "      <th>75%</th>\n",
       "      <td>36.000000</td>\n",
       "      <td>71.000000</td>\n",
       "      <td>-1.000000</td>\n",
       "      <td>0.000000</td>\n",
       "      <td>0.000000</td>\n",
       "      <td>1.000000</td>\n",
       "      <td>1.000000</td>\n",
       "    </tr>\n",
       "    <tr>\n",
       "      <th>max</th>\n",
       "      <td>110.000000</td>\n",
       "      <td>95.000000</td>\n",
       "      <td>1000000.000000</td>\n",
       "      <td>1.000000</td>\n",
       "      <td>1.000000</td>\n",
       "      <td>5.000000</td>\n",
       "      <td>5.000000</td>\n",
       "    </tr>\n",
       "  </tbody>\n",
       "</table>\n",
       "</div>"
      ],
      "text/plain": [
       "               age       height          income    offspring       smokes  \\\n",
       "count  9514.000000  9514.000000     9514.000000  9514.000000  9514.000000   \n",
       "mean     32.084192    68.337398    18887.145155     0.076624     0.166597   \n",
       "std       9.445488     3.905229    91428.807808     0.266008     0.372635   \n",
       "min      18.000000    36.000000       -1.000000     0.000000     0.000000   \n",
       "25%      25.000000    66.000000       -1.000000     0.000000     0.000000   \n",
       "50%      30.000000    68.000000       -1.000000     0.000000     0.000000   \n",
       "75%      36.000000    71.000000       -1.000000     0.000000     0.000000   \n",
       "max     110.000000    95.000000  1000000.000000     1.000000     1.000000   \n",
       "\n",
       "       number_of_fluent_languages  number_of_poorly_languages  \n",
       "count                 9514.000000                 9514.000000  \n",
       "mean                     1.146941                    0.338974  \n",
       "std                      0.413248                    0.645990  \n",
       "min                      1.000000                    0.000000  \n",
       "25%                      1.000000                    0.000000  \n",
       "50%                      1.000000                    0.000000  \n",
       "75%                      1.000000                    1.000000  \n",
       "max                      5.000000                    5.000000  "
      ]
     },
     "execution_count": 43,
     "metadata": {},
     "output_type": "execute_result"
    }
   ],
   "source": [
    "df.describe()"
   ]
  },
  {
   "cell_type": "code",
   "execution_count": 44,
   "id": "2ae8e259",
   "metadata": {
    "colab": {
     "base_uri": "https://localhost:8080/",
     "height": 423
    },
    "id": "2ae8e259",
    "outputId": "82419a82-1cb7-448d-b729-4b7dde5cebeb"
   },
   "outputs": [
    {
     "data": {
      "text/plain": [
       "<matplotlib.axes._subplots.AxesSubplot at 0x7f0ff0d2c4d0>"
      ]
     },
     "execution_count": 44,
     "metadata": {},
     "output_type": "execute_result"
    },
    {
     "data": {
      "image/png": "[encoded data removed]",
      "text/plain": [
       "<Figure size 432x288 with 2 Axes>"
      ]
     },
     "metadata": {
      "needs_background": "light"
     },
     "output_type": "display_data"
    }
   ],
   "source": [
    "sns.heatmap(df.corr(),annot=True)"
   ]
  },
  {
   "cell_type": "code",
   "execution_count": 45,
   "id": "a5ffe6e2",
   "metadata": {
    "id": "a5ffe6e2"
   },
   "outputs": [],
   "source": [
    "df_reg=pd.get_dummies(df,drop_first=True)"
   ]
  },
  {
   "cell_type": "code",
   "execution_count": 46,
   "id": "4bd3c510",
   "metadata": {
    "colab": {
     "base_uri": "https://localhost:8080/"
    },
    "id": "4bd3c510",
    "outputId": "2b965dff-e476-4e45-85bf-32fd14356e0a"
   },
   "outputs": [
    {
     "data": {
      "text/plain": [
       "(9514, 6900)"
      ]
     },
     "execution_count": 46,
     "metadata": {},
     "output_type": "execute_result"
    }
   ],
   "source": [
    "df_reg.shape"
   ]
  },
  {
   "cell_type": "code",
   "execution_count": 47,
   "id": "6d5909a2",
   "metadata": {
    "id": "6d5909a2"
   },
   "outputs": [],
   "source": [
    "x,y=df_reg.drop(\"age\",axis=1),df[[\"age\"]]"
   ]
  },
  {
   "cell_type": "code",
   "execution_count": 48,
   "id": "af408466",
   "metadata": {
    "id": "af408466"
   },
   "outputs": [],
   "source": [
    "def regression_funct(x,y):\n",
    "    from sklearn.linear_model import LinearRegression\n",
    "    from sklearn.linear_model import Ridge,Lasso\n",
    "    from sklearn.linear_model import ElasticNet\n",
    "    from sklearn.tree import ExtraTreeRegressor\n",
    "    from sklearn.ensemble import GradientBoostingRegressor\n",
    "    from sklearn.neighbors import KNeighborsRegressor\n",
    "    \n",
    "    from sklearn.model_selection import train_test_split\n",
    "\n",
    "    from sklearn.metrics import mean_squared_error,r2_score,mean_absolute_error\n",
    "    \n",
    "    \n",
    "    x_train,x_test,y_train,y_test=train_test_split(x,y,test_size=0.2,random_state=42)\n",
    "\n",
    "    L=LinearRegression()\n",
    "    R=Ridge()\n",
    "    Lass=Lasso()\n",
    "    E=ElasticNet()\n",
    "    ExTree=ExtraTreeRegressor()\n",
    "    GBR=GradientBoostingRegressor()\n",
    "    KN=KNeighborsRegressor()\n",
    "    \n",
    "    algos=[L,R,Lass,E,ExTree,GBR,KN]\n",
    "    algo_names=['LinearRegression','Ridge','Lasso','ElasticNet','ExtraTreeRegressor','GradientBoostingRegressor','KNeighborsRegressor']\n",
    "    r_squared=[]\n",
    "    rmse=[]\n",
    "    mae=[]\n",
    "    \n",
    "    result=pd.DataFrame(columns=['R_Squared','RMSE','MAE'],index=algo_names)\n",
    "    \n",
    "    for item in algos:\n",
    "        item.fit(x_train,y_train)\n",
    "        item.predict(x_test)\n",
    "        r_squared.append(r2_score(y_test,item.predict(x_test)))\n",
    "        rmse.append((mean_squared_error(y_test,item.predict(x_test)))**.5)\n",
    "        mae.append(mean_absolute_error(y_test,item.predict(x_test)))\n",
    "        \n",
    "    result.R_Squared=r_squared\n",
    "    result.RMSE=rmse\n",
    "    result.MAE=mae\n",
    "        \n",
    "    return result.sort_values('R_Squared',ascending=False)"
   ]
  },
  {
   "cell_type": "code",
   "execution_count": 49,
   "id": "9aa834cd",
   "metadata": {
    "colab": {
     "base_uri": "https://localhost:8080/",
     "height": 266
    },
    "id": "9aa834cd",
    "outputId": "10b27f12-e8bf-40d5-ecb2-2e92f285f0d2"
   },
   "outputs": [
    {
     "data": {
      "text/html": [
       "<div>\n",
       "<style scoped>\n",
       "    .dataframe tbody tr th:only-of-type {\n",
       "        vertical-align: middle;\n",
       "    }\n",
       "\n",
       "    .dataframe tbody tr th {\n",
       "        vertical-align: top;\n",
       "    }\n",
       "\n",
       "    .dataframe thead th {\n",
       "        text-align: right;\n",
       "    }\n",
       "</style>\n",
       "<table border=\"1\" class=\"dataframe\">\n",
       "  <thead>\n",
       "    <tr style=\"text-align: right;\">\n",
       "      <th></th>\n",
       "      <th>R_Squared</th>\n",
       "      <th>RMSE</th>\n",
       "      <th>MAE</th>\n",
       "    </tr>\n",
       "  </thead>\n",
       "  <tbody>\n",
       "    <tr>\n",
       "      <th>GradientBoostingRegressor</th>\n",
       "      <td>0.853030</td>\n",
       "      <td>3.654769</td>\n",
       "      <td>2.975959</td>\n",
       "    </tr>\n",
       "    <tr>\n",
       "      <th>Ridge</th>\n",
       "      <td>0.837786</td>\n",
       "      <td>3.839634</td>\n",
       "      <td>3.094992</td>\n",
       "    </tr>\n",
       "    <tr>\n",
       "      <th>LinearRegression</th>\n",
       "      <td>0.805711</td>\n",
       "      <td>4.202134</td>\n",
       "      <td>3.346136</td>\n",
       "    </tr>\n",
       "    <tr>\n",
       "      <th>ExtraTreeRegressor</th>\n",
       "      <td>0.728107</td>\n",
       "      <td>4.971014</td>\n",
       "      <td>3.915397</td>\n",
       "    </tr>\n",
       "    <tr>\n",
       "      <th>Lasso</th>\n",
       "      <td>0.572190</td>\n",
       "      <td>6.235505</td>\n",
       "      <td>4.213471</td>\n",
       "    </tr>\n",
       "    <tr>\n",
       "      <th>KNeighborsRegressor</th>\n",
       "      <td>0.477414</td>\n",
       "      <td>6.891676</td>\n",
       "      <td>4.520652</td>\n",
       "    </tr>\n",
       "    <tr>\n",
       "      <th>ElasticNet</th>\n",
       "      <td>0.308607</td>\n",
       "      <td>7.926994</td>\n",
       "      <td>5.422564</td>\n",
       "    </tr>\n",
       "  </tbody>\n",
       "</table>\n",
       "</div>"
      ],
      "text/plain": [
       "                           R_Squared      RMSE       MAE\n",
       "GradientBoostingRegressor   0.853030  3.654769  2.975959\n",
       "Ridge                       0.837786  3.839634  3.094992\n",
       "LinearRegression            0.805711  4.202134  3.346136\n",
       "ExtraTreeRegressor          0.728107  4.971014  3.915397\n",
       "Lasso                       0.572190  6.235505  4.213471\n",
       "KNeighborsRegressor         0.477414  6.891676  4.520652\n",
       "ElasticNet                  0.308607  7.926994  5.422564"
      ]
     },
     "execution_count": 49,
     "metadata": {},
     "output_type": "execute_result"
    }
   ],
   "source": [
    "regression_funct(x,y)"
   ]
  },
  {
   "cell_type": "code",
   "execution_count": 50,
   "id": "8e9fce8b",
   "metadata": {
    "id": "8e9fce8b"
   },
   "outputs": [],
   "source": [
    "def classification_funct(x,y):\n",
    "    from sklearn.naive_bayes import GaussianNB\n",
    "    from sklearn.naive_bayes import BernoulliNB\n",
    "    from sklearn.svm import SVC\n",
    "    from sklearn.neighbors import KNeighborsClassifier\n",
    "    from sklearn.tree import DecisionTreeClassifier\n",
    "    from sklearn.ensemble import RandomForestClassifier\n",
    "    from sklearn.linear_model import LogisticRegression\n",
    "    from xgboost import XGBClassifier #yüklemek için !pip install xgboost kullandım\n",
    "    \n",
    "    from sklearn.metrics import accuracy_score,precision_score,recall_score,f1_score\n",
    "    from sklearn.metrics import confusion_matrix,classification_report\n",
    "       \n",
    "    x_train,x_test,y_train,y_test=train_test_split(x,y,test_size=0.2,random_state=42)\n",
    "\n",
    "    g=GaussianNB()\n",
    "    b=BernoulliNB()\n",
    "    KN=KNeighborsClassifier()\n",
    "    SVC=SVC() \n",
    "    D=DecisionTreeClassifier()\n",
    "    R=RandomForestClassifier()\n",
    "    Log=LogisticRegression()\n",
    "    XGB=XGBClassifier()\n",
    "    \n",
    "    algos=[g,b,KN,SVC,D,R,Log,XGB]\n",
    "    algo_names=['GaussianNB','BernoulliNB','KNeighborsClassifier','SVC','DecisionTreeClassifier','RandomForestClassifier','LogisticRegression','XGBClassifier']\n",
    "   \n",
    "    accuracy_scored=[]\n",
    "\n",
    "    \n",
    "    for item in algos:\n",
    "        item.fit(x_train,y_train)\n",
    "        item.predict(x_test)\n",
    "        \n",
    "        accuracy_scored.append(accuracy_score(y_test,item.predict(x_test)))\n",
    "       \n",
    "    result=pd.DataFrame(columns=['accuracy_score'],index=algo_names)\n",
    "    result['accuracy_score']=accuracy_scored\n",
    "    return result.sort_values('accuracy_score',ascending=False)"
   ]
  },
  {
   "cell_type": "code",
   "execution_count": 51,
   "id": "3eb3cfab",
   "metadata": {
    "id": "3eb3cfab"
   },
   "outputs": [],
   "source": [
    "y=df[[\"generations\"]]"
   ]
  },
  {
   "cell_type": "code",
   "execution_count": 52,
   "id": "be026381",
   "metadata": {
    "id": "be026381"
   },
   "outputs": [],
   "source": [
    "df_class=df.drop([\"generations\",\"age\"],axis=1)\n",
    "x=pd.get_dummies(df_class,drop_first=True)"
   ]
  },
  {
   "cell_type": "code",
   "execution_count": 53,
   "id": "f25ed935",
   "metadata": {
    "colab": {
     "base_uri": "https://localhost:8080/",
     "height": 297
    },
    "id": "f25ed935",
    "outputId": "46c611a3-2bd8-47d8-d62f-4794327e4370"
   },
   "outputs": [
    {
     "data": {
      "text/html": [
       "<div>\n",
       "<style scoped>\n",
       "    .dataframe tbody tr th:only-of-type {\n",
       "        vertical-align: middle;\n",
       "    }\n",
       "\n",
       "    .dataframe tbody tr th {\n",
       "        vertical-align: top;\n",
       "    }\n",
       "\n",
       "    .dataframe thead th {\n",
       "        text-align: right;\n",
       "    }\n",
       "</style>\n",
       "<table border=\"1\" class=\"dataframe\">\n",
       "  <thead>\n",
       "    <tr style=\"text-align: right;\">\n",
       "      <th></th>\n",
       "      <th>accuracy_score</th>\n",
       "    </tr>\n",
       "  </thead>\n",
       "  <tbody>\n",
       "    <tr>\n",
       "      <th>XGBClassifier</th>\n",
       "      <td>0.679979</td>\n",
       "    </tr>\n",
       "    <tr>\n",
       "      <th>RandomForestClassifier</th>\n",
       "      <td>0.663163</td>\n",
       "    </tr>\n",
       "    <tr>\n",
       "      <th>BernoulliNB</th>\n",
       "      <td>0.662112</td>\n",
       "    </tr>\n",
       "    <tr>\n",
       "      <th>SVC</th>\n",
       "      <td>0.647399</td>\n",
       "    </tr>\n",
       "    <tr>\n",
       "      <th>GaussianNB</th>\n",
       "      <td>0.642144</td>\n",
       "    </tr>\n",
       "    <tr>\n",
       "      <th>LogisticRegression</th>\n",
       "      <td>0.642144</td>\n",
       "    </tr>\n",
       "    <tr>\n",
       "      <th>DecisionTreeClassifier</th>\n",
       "      <td>0.621650</td>\n",
       "    </tr>\n",
       "    <tr>\n",
       "      <th>KNeighborsClassifier</th>\n",
       "      <td>0.610615</td>\n",
       "    </tr>\n",
       "  </tbody>\n",
       "</table>\n",
       "</div>"
      ],
      "text/plain": [
       "                        accuracy_score\n",
       "XGBClassifier                 0.679979\n",
       "RandomForestClassifier        0.663163\n",
       "BernoulliNB                   0.662112\n",
       "SVC                           0.647399\n",
       "GaussianNB                    0.642144\n",
       "LogisticRegression            0.642144\n",
       "DecisionTreeClassifier        0.621650\n",
       "KNeighborsClassifier          0.610615"
      ]
     },
     "execution_count": 53,
     "metadata": {},
     "output_type": "execute_result"
    }
   ],
   "source": [
    "classification_funct(x,y)"
   ]
  },
  {
   "cell_type": "code",
   "execution_count": 53,
   "id": "rOZr0OffDVhR",
   "metadata": {
    "id": "rOZr0OffDVhR"
   },
   "outputs": [],
   "source": []
  }
 ],
 "metadata": {
  "colab": {
   "name": "Three Generations Seeking Romance final.ipynb",
   "provenance": []
  },
  "kernelspec": {
   "display_name": "Python 3 (ipykernel)",
   "language": "python",
   "name": "python3"
  },
  "language_info": {
   "codemirror_mode": {
    "name": "ipython",
    "version": 3
   },
   "file_extension": ".py",
   "mimetype": "text/x-python",
   "name": "python",
   "nbconvert_exporter": "python",
   "pygments_lexer": "ipython3",
   "version": "3.9.12"
  }
 },
 "nbformat": 4,
 "nbformat_minor": 5
}
